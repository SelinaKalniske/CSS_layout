{
  "cells": [
    {
      "cell_type": "code",
      "execution_count": 1,
      "metadata": {
        "id": "zmMdVIMRi88p",
        "outputId": "875080f4-75bb-4ac7-be52-c049f2caa5eb",
        "colab": {
          "base_uri": "https://localhost:8080/"
        }
      },
      "outputs": [
        {
          "output_type": "execute_result",
          "data": {
            "text/plain": [
              "True"
            ]
          },
          "metadata": {},
          "execution_count": 1
        }
      ],
      "source": [
        "True # George Bool 19th century mathematician invented boolean algebra\n",
        "# extremely well suited for computers which work with 0s and 1s"
      ]
    },
    {
      "cell_type": "markdown",
      "source": [
        "George Boole ![George Boole] https://upload.wikimedia.org/wikipedia/commons/thumb/c/ce/George_Boole_color.jpg/440px-George_Boole_color.jpg\n"
      ],
      "metadata": {
        "id": "0D_KVhPokr_c"
      }
    },
    {
      "cell_type": "code",
      "execution_count": 2,
      "metadata": {
        "id": "3O73zrgui88x",
        "outputId": "46b579aa-5436-454e-8923-439a88ad97be",
        "colab": {
          "base_uri": "https://localhost:8080/"
        }
      },
      "outputs": [
        {
          "output_type": "execute_result",
          "data": {
            "text/plain": [
              "(bool, bool)"
            ]
          },
          "metadata": {},
          "execution_count": 2
        }
      ],
      "source": [
        "type(True), type(False)"
      ]
    },
    {
      "cell_type": "code",
      "execution_count": 4,
      "metadata": {
        "id": "rbH7CRcgi88y",
        "outputId": "6ac6fb2c-d76a-4042-e234-2fa7a13f036b",
        "colab": {
          "base_uri": "https://localhost:8080/"
        }
      },
      "outputs": [
        {
          "output_type": "execute_result",
          "data": {
            "text/plain": [
              "False"
            ]
          },
          "metadata": {},
          "execution_count": 4
        }
      ],
      "source": [
        "5 > 7"
      ]
    },
    {
      "cell_type": "code",
      "execution_count": 5,
      "metadata": {
        "id": "4BKDGp3Wi88y",
        "outputId": "db736f8c-7d25-44af-bd2d-9a6ab2337398",
        "colab": {
          "base_uri": "https://localhost:8080/"
        }
      },
      "outputs": [
        {
          "output_type": "execute_result",
          "data": {
            "text/plain": [
              "bool"
            ]
          },
          "metadata": {},
          "execution_count": 5
        }
      ],
      "source": [
        "type(5 > 7)"
      ]
    },
    {
      "cell_type": "code",
      "execution_count": 6,
      "metadata": {
        "id": "BObirC86i88z",
        "outputId": "8146bf4d-1d4e-40f3-cc99-6f30024b8827",
        "colab": {
          "base_uri": "https://localhost:8080/"
        }
      },
      "outputs": [
        {
          "output_type": "execute_result",
          "data": {
            "text/plain": [
              "True"
            ]
          },
          "metadata": {},
          "execution_count": 6
        }
      ],
      "source": [
        "8 == 18-10 #evaluation is right to left so 18-10 is done first"
      ]
    },
    {
      "cell_type": "code",
      "execution_count": 7,
      "metadata": {
        "id": "Z4avzT_mi88z",
        "outputId": "1c12683b-173c-471e-ed24-9179a90af3cc",
        "colab": {
          "base_uri": "https://localhost:8080/"
        }
      },
      "outputs": [
        {
          "output_type": "execute_result",
          "data": {
            "text/plain": [
              "(True, False)"
            ]
          },
          "metadata": {},
          "execution_count": 7
        }
      ],
      "source": [
        "2*2 == 4, 2*2 == 5"
      ]
    },
    {
      "cell_type": "code",
      "execution_count": 8,
      "metadata": {
        "id": "ETYPbA9Hi880",
        "outputId": "470953e1-3e2d-4ef3-886e-1bc11bc97f25",
        "colab": {
          "base_uri": "https://localhost:8080/"
        }
      },
      "outputs": [
        {
          "output_type": "execute_result",
          "data": {
            "text/plain": [
              "False"
            ]
          },
          "metadata": {},
          "execution_count": 8
        }
      ],
      "source": [
        "5 == '5' # these are not the same in Python!\n",
        "# integer 5 is not the same as string 5"
      ]
    },
    {
      "cell_type": "code",
      "execution_count": 9,
      "metadata": {
        "id": "yiXxXwBmi880",
        "outputId": "ba56a993-b179-49e7-8b78-eea98caaa90c",
        "colab": {
          "base_uri": "https://localhost:8080/"
        }
      },
      "outputs": [
        {
          "output_type": "execute_result",
          "data": {
            "text/plain": [
              "True"
            ]
          },
          "metadata": {},
          "execution_count": 9
        }
      ],
      "source": [
        "5 == int('5') # we compare the same data types, otherwise inequality"
      ]
    },
    {
      "cell_type": "code",
      "execution_count": 10,
      "metadata": {
        "id": "ALuXv5zoi881",
        "outputId": "462aefde-eec2-4b04-ad55-ddb6233b439b",
        "colab": {
          "base_uri": "https://localhost:8080/"
        }
      },
      "outputs": [
        {
          "output_type": "execute_result",
          "data": {
            "text/plain": [
              "True"
            ]
          },
          "metadata": {},
          "execution_count": 10
        }
      ],
      "source": [
        "# in Python \" and ' are used the same way\n",
        "\"Valdis\" == 'Valdis'\n"
      ]
    },
    {
      "cell_type": "code",
      "execution_count": 11,
      "metadata": {
        "id": "Q972qUHei881",
        "outputId": "6ebed3ca-e87b-4d96-818a-cb269c538301",
        "colab": {
          "base_uri": "https://localhost:8080/"
        }
      },
      "outputs": [
        {
          "output_type": "execute_result",
          "data": {
            "text/plain": [
              "True"
            ]
          },
          "metadata": {},
          "execution_count": 11
        }
      ],
      "source": [
        "\"Valdis\" == \"Valdis\""
      ]
    },
    {
      "cell_type": "code",
      "source": [
        "\"Valdis \" == \"Valdis\" #remmeber the WHITESPACE!! single space character"
      ],
      "metadata": {
        "id": "GDg0pcp4l7JU",
        "outputId": "22d3df2d-0db5-4101-aa65-1e85e62ca12e",
        "colab": {
          "base_uri": "https://localhost:8080/"
        }
      },
      "execution_count": 12,
      "outputs": [
        {
          "output_type": "execute_result",
          "data": {
            "text/plain": [
              "False"
            ]
          },
          "metadata": {},
          "execution_count": 12
        }
      ]
    },
    {
      "cell_type": "code",
      "source": [
        "# we have more lesser or greater comparions <, >, <=, >=."
      ],
      "metadata": {
        "id": "tM1v7MA-mKWq"
      },
      "execution_count": null,
      "outputs": []
    },
    {
      "cell_type": "code",
      "execution_count": 13,
      "metadata": {
        "id": "jUQ4zSyCi881",
        "outputId": "e7b4f768-4558-45c3-f510-ba922989ada8",
        "colab": {
          "base_uri": "https://localhost:8080/"
        }
      },
      "outputs": [
        {
          "output_type": "execute_result",
          "data": {
            "text/plain": [
              "(True, True)"
            ]
          },
          "metadata": {},
          "execution_count": 13
        }
      ],
      "source": [
        "5 <= 6, 5 <= 5"
      ]
    },
    {
      "cell_type": "code",
      "source": [
        "a=2\n",
        "b=4\n",
        "a*a==b, a*a==4, a*a==5"
      ],
      "metadata": {
        "id": "iZ1IjxmgmYKT",
        "outputId": "25b36fb2-d32f-4620-eb89-050e375137d7",
        "colab": {
          "base_uri": "https://localhost:8080/"
        }
      },
      "execution_count": 15,
      "outputs": [
        {
          "output_type": "execute_result",
          "data": {
            "text/plain": [
              "(True, True, False)"
            ]
          },
          "metadata": {},
          "execution_count": 15
        }
      ]
    },
    {
      "cell_type": "code",
      "source": [
        "a >= 2, a > b, a >= b, a < b, a <= b # "
      ],
      "metadata": {
        "id": "PFExpJkQmkuE",
        "outputId": "36f78928-031b-49c8-ad25-2e71654f37d8",
        "colab": {
          "base_uri": "https://localhost:8080/"
        }
      },
      "execution_count": 16,
      "outputs": [
        {
          "output_type": "execute_result",
          "data": {
            "text/plain": [
              "(True, False, False, True, True)"
            ]
          },
          "metadata": {},
          "execution_count": 16
        }
      ]
    },
    {
      "cell_type": "code",
      "source": [
        "# there is an inequality comparison"
      ],
      "metadata": {
        "id": "OgJXxnrwm91K"
      },
      "execution_count": null,
      "outputs": []
    },
    {
      "cell_type": "code",
      "execution_count": 14,
      "metadata": {
        "id": "w8Aaygs0i882",
        "outputId": "ed2a5993-f8da-4a9d-dbed-f4132190fc45",
        "colab": {
          "base_uri": "https://localhost:8080/"
        }
      },
      "outputs": [
        {
          "output_type": "execute_result",
          "data": {
            "text/plain": [
              "(True, False)"
            ]
          },
          "metadata": {},
          "execution_count": 14
        }
      ],
      "source": [
        "5 != 6, 5 != 5 # so true and false, you are saying 5 is not equal to 5\n"
      ]
    },
    {
      "cell_type": "code",
      "source": [
        "a*a != 4, a*a != 9000"
      ],
      "metadata": {
        "id": "A-dKnz1BnKfT",
        "outputId": "809d423e-b90c-4362-fb04-834f8d443d29",
        "colab": {
          "base_uri": "https://localhost:8080/"
        }
      },
      "execution_count": 17,
      "outputs": [
        {
          "output_type": "execute_result",
          "data": {
            "text/plain": [
              "(False, True)"
            ]
          },
          "metadata": {},
          "execution_count": 17
        }
      ]
    },
    {
      "cell_type": "code",
      "execution_count": null,
      "metadata": {
        "id": "fyO1IqUpi882"
      },
      "outputs": [],
      "source": [
        "not True, not False"
      ]
    },
    {
      "cell_type": "markdown",
      "source": [
        "## Comparing strings"
      ],
      "metadata": {
        "id": "XqIogocqnU5W"
      }
    },
    {
      "cell_type": "code",
      "execution_count": 18,
      "metadata": {
        "id": "kuGthSgKi883",
        "outputId": "37aa4425-3720-4778-ed12-b2121e082960",
        "colab": {
          "base_uri": "https://localhost:8080/"
        }
      },
      "outputs": [
        {
          "output_type": "execute_result",
          "data": {
            "text/plain": [
              "True"
            ]
          },
          "metadata": {},
          "execution_count": 18
        }
      ],
      "source": [
        "'VALDIS' < 'VOLDEMARS' # what is being compared here?"
      ]
    },
    {
      "cell_type": "code",
      "execution_count": null,
      "metadata": {
        "id": "MnhrL9Dai883"
      },
      "outputs": [],
      "source": [
        "len('VALDIS') < len('VOLDEMARS')"
      ]
    },
    {
      "cell_type": "code",
      "execution_count": 19,
      "metadata": {
        "id": "9sZe5kf6i883",
        "outputId": "1998c0b4-d2c9-4126-e11c-55e93f949632",
        "colab": {
          "base_uri": "https://localhost:8080/"
        }
      },
      "outputs": [
        {
          "output_type": "execute_result",
          "data": {
            "text/plain": [
              "True"
            ]
          },
          "metadata": {},
          "execution_count": 19
        }
      ],
      "source": [
        "'VALDIS' < 'VOLD'"
      ]
    },
    {
      "cell_type": "code",
      "execution_count": 20,
      "metadata": {
        "id": "iopeZlRni884",
        "outputId": "a73580a0-168f-48a8-ac48-4bee23c584f6",
        "colab": {
          "base_uri": "https://localhost:8080/"
        }
      },
      "outputs": [
        {
          "output_type": "execute_result",
          "data": {
            "text/plain": [
              "True"
            ]
          },
          "metadata": {},
          "execution_count": 20
        }
      ],
      "source": [
        "'VALDIS' < 'VB'"
      ]
    },
    {
      "cell_type": "code",
      "execution_count": 21,
      "metadata": {
        "id": "dT8lEDwSi884",
        "outputId": "c0f65db5-008d-4ef8-9050-4dc9f595898d",
        "colab": {
          "base_uri": "https://localhost:8080/"
        }
      },
      "outputs": [
        {
          "output_type": "execute_result",
          "data": {
            "text/plain": [
              "False"
            ]
          },
          "metadata": {},
          "execution_count": 21
        }
      ],
      "source": [
        "'ZALDIS' < 'VB'"
      ]
    },
    {
      "cell_type": "code",
      "execution_count": 23,
      "metadata": {
        "id": "zJXd0nIIi884",
        "outputId": "8765d8e7-4127-461f-fceb-f720857b3564",
        "colab": {
          "base_uri": "https://localhost:8080/"
        }
      },
      "outputs": [
        {
          "output_type": "execute_result",
          "data": {
            "text/plain": [
              "True"
            ]
          },
          "metadata": {},
          "execution_count": 23
        }
      ],
      "source": [
        "'Valdis' > 'VALDIS' # because a comes after A"
      ]
    },
    {
      "cell_type": "code",
      "source": [],
      "metadata": {
        "id": "hMt5d249omn8"
      },
      "execution_count": null,
      "outputs": []
    },
    {
      "cell_type": "code",
      "execution_count": 24,
      "metadata": {
        "id": "XwMot2k1i884",
        "outputId": "7b0fba49-9300-44d4-d84f-dafffc72acd5",
        "colab": {
          "base_uri": "https://localhost:8080/"
        }
      },
      "outputs": [
        {
          "output_type": "execute_result",
          "data": {
            "text/plain": [
              "True"
            ]
          },
          "metadata": {},
          "execution_count": 24
        }
      ],
      "source": [
        "len('VALDIS') < len('VOLDEMARS')\n",
        "\n",
        "# We check each letter from left side\n",
        "# on mismatch we check ASCII (UTF-8) tables for values\n",
        "\n",
        "'VALDIS' < 'VOLDEMARS'"
      ]
    },
    {
      "cell_type": "code",
      "execution_count": 25,
      "metadata": {
        "id": "iWfUS5Rdi885",
        "outputId": "14338b42-7fbb-4461-f883-ed77a94050bc",
        "colab": {
          "base_uri": "https://localhost:8080/"
        }
      },
      "outputs": [
        {
          "output_type": "execute_result",
          "data": {
            "text/plain": [
              "False"
            ]
          },
          "metadata": {},
          "execution_count": 25
        }
      ],
      "source": [
        "'kaķis' < 'kakis' # cat vs cat in Latvian"
      ]
    },
    {
      "cell_type": "markdown",
      "source": [
        "### Getting character from Unicode number"
      ],
      "metadata": {
        "id": "v8D6Wai_pw0b"
      }
    },
    {
      "cell_type": "code",
      "execution_count": 26,
      "metadata": {
        "id": "_gjx8UNKi886",
        "outputId": "15a42c84-3924-434a-f4fd-e70aae3b81c9",
        "colab": {
          "base_uri": "https://localhost:8080/",
          "height": 35
        }
      },
      "outputs": [
        {
          "output_type": "execute_result",
          "data": {
            "text/plain": [
              "'A'"
            ],
            "application/vnd.google.colaboratory.intrinsic+json": {
              "type": "string"
            }
          },
          "metadata": {},
          "execution_count": 26
        }
      ],
      "source": [
        "chr(65)"
      ]
    },
    {
      "cell_type": "code",
      "source": [
        "chr (256), chr(257), chr(258)"
      ],
      "metadata": {
        "id": "k1CvkF9fpOiL",
        "outputId": "4be0f106-a4f6-41b2-ed26-b122c96c4eda",
        "colab": {
          "base_uri": "https://localhost:8080/"
        }
      },
      "execution_count": 29,
      "outputs": [
        {
          "output_type": "execute_result",
          "data": {
            "text/plain": [
              "('Ā', 'ā', 'Ă')"
            ]
          },
          "metadata": {},
          "execution_count": 29
        }
      ]
    },
    {
      "cell_type": "code",
      "execution_count": 27,
      "metadata": {
        "id": "Tmk1s-V6i886",
        "outputId": "2a635f73-2615-44fe-de8a-72ae65dec68d",
        "colab": {
          "base_uri": "https://localhost:8080/",
          "height": 35
        }
      },
      "outputs": [
        {
          "output_type": "execute_result",
          "data": {
            "text/plain": [
              "'Ɛ'"
            ],
            "application/vnd.google.colaboratory.intrinsic+json": {
              "type": "string"
            }
          },
          "metadata": {},
          "execution_count": 27
        }
      ],
      "source": [
        "chr(400) # so you can get UTF-8 characters out of their code numbers"
      ]
    },
    {
      "cell_type": "code",
      "execution_count": 30,
      "metadata": {
        "id": "j7jutcxQi887",
        "outputId": "4c3906b4-21ae-4fb9-b6ec-3bec9ded89ad",
        "colab": {
          "base_uri": "https://localhost:8080/",
          "height": 35
        }
      },
      "outputs": [
        {
          "output_type": "execute_result",
          "data": {
            "text/plain": [
              "'ྠ'"
            ],
            "application/vnd.google.colaboratory.intrinsic+json": {
              "type": "string"
            }
          },
          "metadata": {},
          "execution_count": 30
        }
      ],
      "source": [
        "chr(4000)"
      ]
    },
    {
      "cell_type": "code",
      "execution_count": 31,
      "metadata": {
        "id": "da99M4bli887",
        "outputId": "586e6b29-ca48-4ae6-a74b-fff2ad363b69",
        "colab": {
          "base_uri": "https://localhost:8080/",
          "height": 35
        }
      },
      "outputs": [
        {
          "output_type": "execute_result",
          "data": {
            "text/plain": [
              "'鱀'"
            ],
            "application/vnd.google.colaboratory.intrinsic+json": {
              "type": "string"
            }
          },
          "metadata": {},
          "execution_count": 31
        }
      ],
      "source": [
        "chr(40000)"
      ]
    },
    {
      "cell_type": "code",
      "execution_count": 34,
      "metadata": {
        "id": "9OHiVsWMi887",
        "outputId": "794c4eae-50f3-41d3-bcce-0966d2a61378",
        "colab": {
          "base_uri": "https://localhost:8080/",
          "height": 35
        }
      },
      "outputs": [
        {
          "output_type": "execute_result",
          "data": {
            "text/plain": [
              "'𘚠'"
            ],
            "application/vnd.google.colaboratory.intrinsic+json": {
              "type": "string"
            }
          },
          "metadata": {},
          "execution_count": 34
        }
      ],
      "source": [
        "chr(100000)"
      ]
    },
    {
      "cell_type": "code",
      "execution_count": 33,
      "metadata": {
        "id": "E5wySo_bi888",
        "outputId": "97a05857-f511-4193-8409-818d5cbfffc5",
        "colab": {
          "base_uri": "https://localhost:8080/",
          "height": 35
        }
      },
      "outputs": [
        {
          "output_type": "execute_result",
          "data": {
            "text/plain": [
              "'😋'"
            ],
            "application/vnd.google.colaboratory.intrinsic+json": {
              "type": "string"
            }
          },
          "metadata": {},
          "execution_count": 33
        }
      ],
      "source": [
        "chr(128523)"
      ]
    },
    {
      "cell_type": "code",
      "execution_count": 35,
      "metadata": {
        "id": "aprHcFN1i888",
        "outputId": "a6037f53-73ed-49d8-abb3-716616562725",
        "colab": {
          "base_uri": "https://localhost:8080/"
        }
      },
      "outputs": [
        {
          "output_type": "execute_result",
          "data": {
            "text/plain": [
              "311"
            ]
          },
          "metadata": {},
          "execution_count": 35
        }
      ],
      "source": [
        "# ord gets you integer value representing unicode value\n",
        "ord('ķ')"
      ]
    },
    {
      "cell_type": "code",
      "execution_count": 36,
      "metadata": {
        "id": "tbT8Mmq8i889",
        "outputId": "35fc14e4-8542-40b2-dc95-4abf0c415db0",
        "colab": {
          "base_uri": "https://localhost:8080/"
        }
      },
      "outputs": [
        {
          "output_type": "execute_result",
          "data": {
            "text/plain": [
              "310"
            ]
          },
          "metadata": {},
          "execution_count": 36
        }
      ],
      "source": [
        "ord('Ķ')"
      ]
    },
    {
      "cell_type": "code",
      "execution_count": 37,
      "metadata": {
        "id": "_H0WQe68i889",
        "outputId": "51d42010-b7e5-49dd-c43c-7cf2304bfc4b",
        "colab": {
          "base_uri": "https://localhost:8080/"
        }
      },
      "outputs": [
        {
          "output_type": "execute_result",
          "data": {
            "text/plain": [
              "(256, 257)"
            ]
          },
          "metadata": {},
          "execution_count": 37
        }
      ],
      "source": [
        "ord('Ā'),ord('ā')"
      ]
    },
    {
      "cell_type": "code",
      "execution_count": 38,
      "metadata": {
        "id": "2OMSGxSbi88-",
        "outputId": "7f8a55fe-e528-4d7b-caec-583635edec71",
        "colab": {
          "base_uri": "https://localhost:8080/"
        }
      },
      "outputs": [
        {
          "output_type": "execute_result",
          "data": {
            "text/plain": [
              "False"
            ]
          },
          "metadata": {},
          "execution_count": 38
        }
      ],
      "source": [
        "'Valdis'  < \"VOLDEMARS\""
      ]
    },
    {
      "cell_type": "code",
      "execution_count": 39,
      "metadata": {
        "id": "TjURj8pmi88-",
        "outputId": "9c25cf3a-37cf-474d-dda0-7af9acbfd4ef",
        "colab": {
          "base_uri": "https://localhost:8080/"
        }
      },
      "outputs": [
        {
          "output_type": "stream",
          "name": "stdout",
          "text": [
            "a\n"
          ]
        }
      ],
      "source": [
        "print(chr(97))"
      ]
    },
    {
      "cell_type": "code",
      "execution_count": 40,
      "metadata": {
        "id": "5ppRLEuhi88-",
        "outputId": "9ff3232e-d45b-40fe-efd0-9da334614c85",
        "colab": {
          "base_uri": "https://localhost:8080/",
          "height": 35
        }
      },
      "outputs": [
        {
          "output_type": "execute_result",
          "data": {
            "text/plain": [
              "'ྠ'"
            ],
            "application/vnd.google.colaboratory.intrinsic+json": {
              "type": "string"
            }
          },
          "metadata": {},
          "execution_count": 40
        }
      ],
      "source": [
        "chr(4000)"
      ]
    },
    {
      "cell_type": "code",
      "execution_count": 41,
      "metadata": {
        "id": "3egyWfd3i88-",
        "outputId": "1f89dc41-ed90-4d5c-bbc0-9dcc06718589",
        "colab": {
          "base_uri": "https://localhost:8080/"
        }
      },
      "outputs": [
        {
          "output_type": "execute_result",
          "data": {
            "text/plain": [
              "257"
            ]
          },
          "metadata": {},
          "execution_count": 41
        }
      ],
      "source": [
        "ord(\"ā\")"
      ]
    },
    {
      "cell_type": "code",
      "execution_count": 42,
      "metadata": {
        "id": "iN2wDrYPi88_",
        "outputId": "af5e85ab-8db7-4dfe-85c7-7dfa73360ec1",
        "colab": {
          "base_uri": "https://localhost:8080/"
        }
      },
      "outputs": [
        {
          "output_type": "execute_result",
          "data": {
            "text/plain": [
              "310"
            ]
          },
          "metadata": {},
          "execution_count": 42
        }
      ],
      "source": [
        "ord('Ķ')"
      ]
    },
    {
      "cell_type": "code",
      "execution_count": 43,
      "metadata": {
        "id": "yUHJG3ZDi88_",
        "outputId": "452f66cc-90c6-4ebc-dfa9-bced531a68e4",
        "colab": {
          "base_uri": "https://localhost:8080/"
        }
      },
      "outputs": [
        {
          "output_type": "execute_result",
          "data": {
            "text/plain": [
              "[0, 1, 2, 3, 4]"
            ]
          },
          "metadata": {},
          "execution_count": 43
        }
      ],
      "source": [
        "list(range(5))"
      ]
    },
    {
      "cell_type": "markdown",
      "metadata": {
        "id": "vcMrX_Dyi88_"
      },
      "source": [
        "# Logical Operators"
      ]
    },
    {
      "cell_type": "markdown",
      "source": [
        "### Logical Negation\n"
      ],
      "metadata": {
        "id": "L4r_bU3kqQfC"
      }
    },
    {
      "cell_type": "code",
      "execution_count": null,
      "metadata": {
        "id": "l2dniM3Zi89C"
      },
      "outputs": [],
      "source": [
        "# and is only only true if both sides are true, otherwise false"
      ]
    },
    {
      "cell_type": "code",
      "source": [
        "not False"
      ],
      "metadata": {
        "id": "9LFVDkBoqW-e",
        "outputId": "a769bc9b-fde3-4946-e8b4-61d314463f80",
        "colab": {
          "base_uri": "https://localhost:8080/"
        }
      },
      "execution_count": 46,
      "outputs": [
        {
          "output_type": "execute_result",
          "data": {
            "text/plain": [
              "True"
            ]
          },
          "metadata": {},
          "execution_count": 46
        }
      ]
    },
    {
      "cell_type": "code",
      "source": [
        "not True"
      ],
      "metadata": {
        "id": "4P_rMnafqauH",
        "outputId": "4666a296-5b7c-4727-f0d5-087647b63e86",
        "colab": {
          "base_uri": "https://localhost:8080/"
        }
      },
      "execution_count": 47,
      "outputs": [
        {
          "output_type": "execute_result",
          "data": {
            "text/plain": [
              "False"
            ]
          },
          "metadata": {},
          "execution_count": 47
        }
      ]
    },
    {
      "cell_type": "code",
      "source": [
        "is_hot=False\n",
        "print (is_hot)"
      ],
      "metadata": {
        "id": "OGtW1aCZqd6R",
        "outputId": "41975b8d-398c-44c7-aa0a-ad0b60a6c977",
        "colab": {
          "base_uri": "https://localhost:8080/"
        }
      },
      "execution_count": 50,
      "outputs": [
        {
          "output_type": "stream",
          "name": "stdout",
          "text": [
            "False\n"
          ]
        }
      ]
    },
    {
      "cell_type": "code",
      "source": [
        "is_hot = not is_hot\n",
        "print (is_hot)\n",
        "\n",
        " #we reverse the value of is_hot to the opposite of the previous"
      ],
      "metadata": {
        "id": "Kwr6XQJVqkBX",
        "outputId": "8cbc7576-f244-4d61-f1b6-d87cdd128b65",
        "colab": {
          "base_uri": "https://localhost:8080/"
        }
      },
      "execution_count": 51,
      "outputs": [
        {
          "output_type": "stream",
          "name": "stdout",
          "text": [
            "True\n"
          ]
        }
      ]
    },
    {
      "cell_type": "markdown",
      "source": [
        "## Logical conjuction with and"
      ],
      "metadata": {
        "id": "DCAPC0IRrG1U"
      }
    },
    {
      "cell_type": "code",
      "execution_count": 52,
      "metadata": {
        "id": "enOgsJs9i89C",
        "outputId": "fb5fd23a-7078-45cf-dd26-c0ff963b73de",
        "colab": {
          "base_uri": "https://localhost:8080/"
        }
      },
      "outputs": [
        {
          "output_type": "execute_result",
          "data": {
            "text/plain": [
              "True"
            ]
          },
          "metadata": {},
          "execution_count": 52
        }
      ],
      "source": [
        "True and True"
      ]
    },
    {
      "cell_type": "code",
      "execution_count": 45,
      "metadata": {
        "id": "bVW-urzdi89D",
        "outputId": "2781f144-c894-4a50-b461-b9f1d752919c",
        "colab": {
          "base_uri": "https://localhost:8080/"
        }
      },
      "outputs": [
        {
          "output_type": "execute_result",
          "data": {
            "text/plain": [
              "False"
            ]
          },
          "metadata": {},
          "execution_count": 45
        }
      ],
      "source": [
        "True and False # and requires for BOTH sides to be true"
      ]
    },
    {
      "cell_type": "code",
      "execution_count": 53,
      "metadata": {
        "id": "QXkMDm7Pi89D",
        "outputId": "220e39ea-6d2c-4056-f345-53b1fb735022",
        "colab": {
          "base_uri": "https://localhost:8080/"
        }
      },
      "outputs": [
        {
          "output_type": "execute_result",
          "data": {
            "text/plain": [
              "False"
            ]
          },
          "metadata": {},
          "execution_count": 53
        }
      ],
      "source": [
        "False and True"
      ]
    },
    {
      "cell_type": "code",
      "execution_count": 54,
      "metadata": {
        "id": "Y45x5yJQi89E",
        "outputId": "a10085e0-7c5f-4da9-bb38-a74fd87fd5e2",
        "colab": {
          "base_uri": "https://localhost:8080/"
        }
      },
      "outputs": [
        {
          "output_type": "execute_result",
          "data": {
            "text/plain": [
              "False"
            ]
          },
          "metadata": {},
          "execution_count": 54
        }
      ],
      "source": [
        "False and False"
      ]
    },
    {
      "cell_type": "code",
      "execution_count": 55,
      "metadata": {
        "id": "0aNc8Qmki89E",
        "outputId": "2585a2e3-2339-4d62-d222-4a0e3b2d06d6",
        "colab": {
          "base_uri": "https://localhost:8080/"
        }
      },
      "outputs": [
        {
          "output_type": "execute_result",
          "data": {
            "text/plain": [
              "True"
            ]
          },
          "metadata": {},
          "execution_count": 55
        }
      ],
      "source": [
        "5 > 4 and 2*2 == 4"
      ]
    },
    {
      "cell_type": "code",
      "execution_count": 56,
      "metadata": {
        "id": "t7RhfYYWi89E",
        "outputId": "80fccaef-6bbc-45b1-b8d7-05d7a975aba4",
        "colab": {
          "base_uri": "https://localhost:8080/"
        }
      },
      "outputs": [
        {
          "output_type": "execute_result",
          "data": {
            "text/plain": [
              "True"
            ]
          },
          "metadata": {},
          "execution_count": 56
        }
      ],
      "source": [
        "True and True and 2*2 == 4"
      ]
    },
    {
      "cell_type": "markdown",
      "source": [
        "## Lazy evaluation"
      ],
      "metadata": {
        "id": "RnHM46oGrYdY"
      }
    },
    {
      "cell_type": "code",
      "execution_count": 58,
      "metadata": {
        "id": "6f6BwQsXi89E",
        "outputId": "a016529f-a1fd-4ed3-973d-84d34ca26cfc",
        "colab": {
          "base_uri": "https://localhost:8080/"
        }
      },
      "outputs": [
        {
          "output_type": "execute_result",
          "data": {
            "text/plain": [
              "False"
            ]
          },
          "metadata": {},
          "execution_count": 58
        }
      ],
      "source": [
        "True and True and 2*2 == 4 and 2*2 == 5 # one drop of oil spoils honey"
      ]
    },
    {
      "cell_type": "code",
      "execution_count": 57,
      "metadata": {
        "id": "9SVtWXNWi89H",
        "outputId": "47bc68ca-9437-48e5-88ea-f7fce1864a0d",
        "colab": {
          "base_uri": "https://localhost:8080/"
        }
      },
      "outputs": [
        {
          "output_type": "execute_result",
          "data": {
            "text/plain": [
              "False"
            ]
          },
          "metadata": {},
          "execution_count": 57
        }
      ],
      "source": [
        "#Lazy evaluation\n",
        "# As soon as something is false,Python will stop evaluating the sequence\n",
        "\n",
        "3 < 2 and True and 2*2 == 4 and 5 == 5 \n",
        "# once the first false value is found Python stops looking\n",
        "# so as soon as 3 <2 is encountered python stops evaluation bevause is going to be false"
      ]
    },
    {
      "cell_type": "code",
      "source": [
        "a*a == 4 and a*2 == b and b < 10"
      ],
      "metadata": {
        "id": "ODrEYPGzrvA6",
        "outputId": "e2f99ccd-d2c2-496d-c0bf-d125587c94b5",
        "colab": {
          "base_uri": "https://localhost:8080/"
        }
      },
      "execution_count": 60,
      "outputs": [
        {
          "output_type": "execute_result",
          "data": {
            "text/plain": [
              "True"
            ]
          },
          "metadata": {},
          "execution_count": 60
        }
      ]
    },
    {
      "cell_type": "markdown",
      "source": [
        "## Complex numbers in Python"
      ],
      "metadata": {
        "id": "WPOAWlWWr6Za"
      }
    },
    {
      "cell_type": "code",
      "execution_count": null,
      "metadata": {
        "id": "Gy7vqO_ri89I"
      },
      "outputs": [],
      "source": [
        "# complex numbers in Python\n",
        "4+5j # so j is i in math which square root of -1"
      ]
    },
    {
      "cell_type": "code",
      "execution_count": null,
      "metadata": {
        "id": "LvBPzA3Vi89I"
      },
      "outputs": [],
      "source": [
        "(4+5j)*(3+2j) # 4*3 == 12 (5*3)j+(2*4)j + (5j*2j)= 10*-1"
      ]
    },
    {
      "cell_type": "code",
      "execution_count": null,
      "metadata": {
        "id": "elNUBbZki89I"
      },
      "outputs": [],
      "source": [
        "i = (2+4j)"
      ]
    },
    {
      "cell_type": "code",
      "execution_count": null,
      "metadata": {
        "id": "_KI-XWAZi89I"
      },
      "outputs": [],
      "source": [
        "i**2"
      ]
    },
    {
      "cell_type": "code",
      "execution_count": null,
      "metadata": {
        "id": "hkggOvafi89I"
      },
      "outputs": [],
      "source": [
        "1_000_000 # for big numbers you can type like this and _ will be ignored\n"
      ]
    },
    {
      "cell_type": "code",
      "execution_count": 62,
      "metadata": {
        "id": "sEneiObli89I",
        "outputId": "9da5ea67-f1b7-4ac7-e247-5c4707f13491",
        "colab": {
          "base_uri": "https://localhost:8080/"
        }
      },
      "outputs": [
        {
          "output_type": "execute_result",
          "data": {
            "text/plain": [
              "1004"
            ]
          },
          "metadata": {},
          "execution_count": 62
        }
      ],
      "source": [
        "1_0_0_4"
      ]
    },
    {
      "cell_type": "code",
      "execution_count": 61,
      "metadata": {
        "id": "6qPC9oECi89O",
        "outputId": "d0b9c263-02d7-4f76-d111-495fff781cc8",
        "colab": {
          "base_uri": "https://localhost:8080/",
          "height": 133
        }
      },
      "outputs": [
        {
          "output_type": "error",
          "ename": "SyntaxError",
          "evalue": "ignored",
          "traceback": [
            "\u001b[0;36m  File \u001b[0;32m\"<ipython-input-61-7c6292c2a1a7>\"\u001b[0;36m, line \u001b[0;32m1\u001b[0m\n\u001b[0;31m    1 000 000 # this will not work\u001b[0m\n\u001b[0m      ^\u001b[0m\n\u001b[0;31mSyntaxError\u001b[0m\u001b[0;31m:\u001b[0m invalid syntax\n"
          ]
        }
      ],
      "source": [
        "1 000 000 # this will not work"
      ]
    },
    {
      "cell_type": "markdown",
      "source": [
        "## Logical disjunction"
      ],
      "metadata": {
        "id": "ys6jfefksNP8"
      }
    },
    {
      "cell_type": "code",
      "execution_count": 63,
      "metadata": {
        "id": "1G9ObIiti89O"
      },
      "outputs": [],
      "source": [
        "# logical or, one side should be true for the whole expression to be true"
      ]
    },
    {
      "cell_type": "code",
      "execution_count": 64,
      "metadata": {
        "id": "m_z6di5wi89O",
        "outputId": "a914d557-7423-4f90-83fa-77c63c462ee6",
        "colab": {
          "base_uri": "https://localhost:8080/"
        }
      },
      "outputs": [
        {
          "output_type": "execute_result",
          "data": {
            "text/plain": [
              "True"
            ]
          },
          "metadata": {},
          "execution_count": 64
        }
      ],
      "source": [
        "True or False"
      ]
    },
    {
      "cell_type": "code",
      "execution_count": 65,
      "metadata": {
        "id": "vZr6S-bAi89O",
        "outputId": "68540258-d392-43df-c26d-cf5aa1e492b6",
        "colab": {
          "base_uri": "https://localhost:8080/"
        }
      },
      "outputs": [
        {
          "output_type": "execute_result",
          "data": {
            "text/plain": [
              "False"
            ]
          },
          "metadata": {},
          "execution_count": 65
        }
      ],
      "source": [
        "False or False #only one which will be false"
      ]
    },
    {
      "cell_type": "code",
      "execution_count": 66,
      "metadata": {
        "id": "VzABoqvEi89O",
        "outputId": "8f6d084c-89bc-4283-a2ee-0f5264e046e9",
        "colab": {
          "base_uri": "https://localhost:8080/"
        }
      },
      "outputs": [
        {
          "output_type": "execute_result",
          "data": {
            "text/plain": [
              "True"
            ]
          },
          "metadata": {},
          "execution_count": 66
        }
      ],
      "source": [
        "True or True"
      ]
    },
    {
      "cell_type": "code",
      "execution_count": 67,
      "metadata": {
        "id": "nPKfqPvmi89O",
        "outputId": "2b4d8faa-c23b-4b0a-ac88-25629cd9577a",
        "colab": {
          "base_uri": "https://localhost:8080/"
        }
      },
      "outputs": [
        {
          "output_type": "execute_result",
          "data": {
            "text/plain": [
              "True"
            ]
          },
          "metadata": {},
          "execution_count": 67
        }
      ],
      "source": [
        "False or True"
      ]
    },
    {
      "cell_type": "markdown",
      "source": [
        "### Lazy evaluation for disjunction (or)"
      ],
      "metadata": {
        "id": "zmxs2utVstjL"
      }
    },
    {
      "cell_type": "code",
      "source": [
        "5/0 # throws a zerodivisionerror"
      ],
      "metadata": {
        "id": "jshGEz2ws021",
        "outputId": "5339ab72-bd1e-4c65-a0a6-2321bff98b1e",
        "colab": {
          "base_uri": "https://localhost:8080/",
          "height": 169
        }
      },
      "execution_count": 68,
      "outputs": [
        {
          "output_type": "error",
          "ename": "ZeroDivisionError",
          "evalue": "ignored",
          "traceback": [
            "\u001b[0;31m---------------------------------------------------------------------------\u001b[0m",
            "\u001b[0;31mZeroDivisionError\u001b[0m                         Traceback (most recent call last)",
            "\u001b[0;32m<ipython-input-68-c40a63f3ec37>\u001b[0m in \u001b[0;36m<module>\u001b[0;34m\u001b[0m\n\u001b[0;32m----> 1\u001b[0;31m \u001b[0;36m5\u001b[0m\u001b[0;34m/\u001b[0m\u001b[0;36m0\u001b[0m \u001b[0;31m# throws a zerodivisionerror\u001b[0m\u001b[0;34m\u001b[0m\u001b[0;34m\u001b[0m\u001b[0m\n\u001b[0m",
            "\u001b[0;31mZeroDivisionError\u001b[0m: division by zero"
          ]
        }
      ]
    },
    {
      "cell_type": "code",
      "source": [
        "my_zero=0\n",
        "my_zero != 0 and 100/my_zero\n"
      ],
      "metadata": {
        "id": "bzJRJgxls9uy",
        "outputId": "b52eb8b2-8969-4333-8e28-f4c572f6de22",
        "colab": {
          "base_uri": "https://localhost:8080/"
        }
      },
      "execution_count": 70,
      "outputs": [
        {
          "output_type": "execute_result",
          "data": {
            "text/plain": [
              "False"
            ]
          },
          "metadata": {},
          "execution_count": 70
        }
      ]
    },
    {
      "cell_type": "code",
      "execution_count": null,
      "metadata": {
        "id": "X-ARaJvDi89O"
      },
      "outputs": [],
      "source": [
        "False or True or True or 2*2 == 4 # Python stops checking after first True\n"
      ]
    },
    {
      "cell_type": "code",
      "execution_count": null,
      "metadata": {
        "id": "svLhV4Wui89P"
      },
      "outputs": [],
      "source": [
        "#lazy evaluation\n",
        "(4 == 4 or 4 < 3) or 4 < 3"
      ]
    },
    {
      "cell_type": "code",
      "execution_count": null,
      "metadata": {
        "id": "guEtw3usi89P"
      },
      "outputs": [],
      "source": [
        "not 4 == 4 # so we invert True"
      ]
    },
    {
      "cell_type": "markdown",
      "source": [
        "## Longer comparisons"
      ],
      "metadata": {
        "id": "bOgG00ZFtSki"
      }
    },
    {
      "cell_type": "code",
      "source": [
        "1 < a < 3 < b < 5 < 10 # true because a and b are 2 and 4 respectively here"
      ],
      "metadata": {
        "id": "uGzk9I8OtVh4",
        "outputId": "a95f1ef7-ced8-4601-8749-8966e42b07c8",
        "colab": {
          "base_uri": "https://localhost:8080/"
        }
      },
      "execution_count": 71,
      "outputs": [
        {
          "output_type": "execute_result",
          "data": {
            "text/plain": [
              "True"
            ]
          },
          "metadata": {},
          "execution_count": 71
        }
      ]
    },
    {
      "cell_type": "code",
      "source": [
        "1 < a and a < 3 and 3 < b and b < 5 and 5 < 10 #pythons approves shorter way, this is for different languages mores\n"
      ],
      "metadata": {
        "id": "1M2h5w48tiNw",
        "outputId": "183ee7df-1e30-4aa4-9a06-37e2a954c685",
        "colab": {
          "base_uri": "https://localhost:8080/"
        }
      },
      "execution_count": 72,
      "outputs": [
        {
          "output_type": "execute_result",
          "data": {
            "text/plain": [
              "True"
            ]
          },
          "metadata": {},
          "execution_count": 72
        }
      ]
    },
    {
      "cell_type": "markdown",
      "metadata": {
        "id": "N7wUVPzgi89P"
      },
      "source": [
        "# Bit Operators"
      ]
    },
    {
      "cell_type": "code",
      "execution_count": null,
      "metadata": {
        "id": "Y9DRaBPvi89P"
      },
      "outputs": [],
      "source": [
        "# this is for hardware engineers, automechanics, maybe Raspberry Pi owners\n",
        "~0"
      ]
    },
    {
      "cell_type": "code",
      "execution_count": null,
      "metadata": {
        "id": "ss0Wbmm6i89Q"
      },
      "outputs": [],
      "source": [
        "~1"
      ]
    },
    {
      "cell_type": "code",
      "execution_count": null,
      "metadata": {
        "id": "WLDh0Hw1i89Q"
      },
      "outputs": [],
      "source": [
        "~0"
      ]
    },
    {
      "cell_type": "code",
      "execution_count": 73,
      "metadata": {
        "id": "yEy8rg-di89Q",
        "outputId": "362945b5-5c36-4e3b-ab16-cc6f9f368e12",
        "colab": {
          "base_uri": "https://localhost:8080/",
          "height": 35
        }
      },
      "outputs": [
        {
          "output_type": "execute_result",
          "data": {
            "text/plain": [
              "'0b100'"
            ],
            "application/vnd.google.colaboratory.intrinsic+json": {
              "type": "string"
            }
          },
          "metadata": {},
          "execution_count": 73
        }
      ],
      "source": [
        "bin(4)"
      ]
    },
    {
      "cell_type": "code",
      "execution_count": null,
      "metadata": {
        "id": "KWmBARvOi89Q"
      },
      "outputs": [],
      "source": [
        "bin(7)"
      ]
    },
    {
      "cell_type": "code",
      "execution_count": null,
      "metadata": {
        "id": "Cz91Tgl4i89Q"
      },
      "outputs": [],
      "source": [
        "bin(-1)"
      ]
    },
    {
      "cell_type": "code",
      "execution_count": 74,
      "metadata": {
        "id": "HXX227X1i89Q",
        "outputId": "c91cb8db-76e6-41ce-914a-0c8952be361e",
        "colab": {
          "base_uri": "https://localhost:8080/"
        }
      },
      "outputs": [
        {
          "output_type": "execute_result",
          "data": {
            "text/plain": [
              "0"
            ]
          },
          "metadata": {},
          "execution_count": 74
        }
      ],
      "source": [
        "# bit operation 11 and 100 so no bits so we get 000\n",
        "3 & 4 "
      ]
    },
    {
      "cell_type": "code",
      "execution_count": null,
      "metadata": {
        "id": "O8pL2kNwi89Q"
      },
      "outputs": [],
      "source": [
        "3 & 5 # 11 and 101 so we should get 001 that is 1"
      ]
    },
    {
      "cell_type": "code",
      "execution_count": null,
      "metadata": {
        "id": "NeEZzQR0i89R"
      },
      "outputs": [],
      "source": [
        "2**8 # THIS MEANS that one byte can hold 256 different values"
      ]
    },
    {
      "cell_type": "code",
      "execution_count": null,
      "metadata": {
        "id": "-z47JGZAi89R"
      },
      "outputs": [],
      "source": [
        "bin(255),bin(3),bin(4),bin(5),bin(6),bin(7)\n"
      ]
    },
    {
      "cell_type": "code",
      "execution_count": null,
      "metadata": {
        "id": "Dax_bmDBi89R"
      },
      "outputs": [],
      "source": [
        "bin(127), bin(128)"
      ]
    },
    {
      "cell_type": "code",
      "execution_count": null,
      "metadata": {
        "id": "6lTXFWwti89R"
      },
      "outputs": [],
      "source": [
        "1+2**1+2**2+2**3+2**4, bin(31)"
      ]
    },
    {
      "cell_type": "code",
      "execution_count": null,
      "metadata": {
        "id": "cwUvxBL-i89R"
      },
      "outputs": [],
      "source": [
        "bin(3)"
      ]
    },
    {
      "cell_type": "code",
      "execution_count": null,
      "metadata": {
        "id": "Zpwdfm1Gi89S"
      },
      "outputs": [],
      "source": [
        "bin(4)"
      ]
    },
    {
      "cell_type": "code",
      "execution_count": null,
      "metadata": {
        "id": "rV_kHiG6i89S"
      },
      "outputs": [],
      "source": [
        "# bit or will be 11 or 100 should be 111\n",
        "3 | 4"
      ]
    },
    {
      "cell_type": "code",
      "execution_count": null,
      "metadata": {
        "id": "JID3epqpi89S"
      },
      "outputs": [],
      "source": [
        "# Bitwise XOR (Exclusive XOR)\n",
        "True ^ False"
      ]
    },
    {
      "cell_type": "code",
      "execution_count": null,
      "metadata": {
        "id": "IEHLNUG1i89S"
      },
      "outputs": [],
      "source": [
        "True ^ True"
      ]
    },
    {
      "cell_type": "code",
      "execution_count": null,
      "metadata": {
        "id": "Pb5dMOOji89S"
      },
      "outputs": [],
      "source": [
        "False ^ False"
      ]
    },
    {
      "cell_type": "code",
      "execution_count": null,
      "metadata": {
        "id": "dY96vZoXi89T"
      },
      "outputs": [],
      "source": [
        "# shifted 1 to 100000 which is 32, 2 to the 5th power\n",
        "1 << 5"
      ]
    },
    {
      "cell_type": "code",
      "execution_count": null,
      "metadata": {
        "id": "nE6Y3wl8i89T"
      },
      "outputs": [],
      "source": [
        "bin(32)"
      ]
    },
    {
      "cell_type": "code",
      "execution_count": null,
      "metadata": {
        "id": "psT-EfbLi89T"
      },
      "outputs": [],
      "source": [
        "127 >> 4"
      ]
    },
    {
      "cell_type": "code",
      "execution_count": null,
      "metadata": {
        "id": "22MhYlimi89V"
      },
      "outputs": [],
      "source": []
    },
    {
      "cell_type": "code",
      "execution_count": null,
      "metadata": {
        "id": "9BoIfeyXi89V"
      },
      "outputs": [],
      "source": [
        "bin(127)"
      ]
    },
    {
      "cell_type": "markdown",
      "metadata": {
        "id": "5lXj97xzi89W"
      },
      "source": [
        "## If Statement"
      ]
    },
    {
      "cell_type": "code",
      "execution_count": null,
      "metadata": {
        "id": "BgiyFZqSi89W"
      },
      "outputs": [],
      "source": [
        "## Conditional execution\n",
        "# if 4 is larger than 5 then do something\n",
        "if 6 > 5:\n",
        "    print(\"6 is larger than 5 wow!\")"
      ]
    },
    {
      "cell_type": "code",
      "execution_count": null,
      "metadata": {
        "id": "ZKA_iHA0i89W"
      },
      "outputs": [],
      "source": [
        "## Conditional execution\n",
        "# if 4 is larger than 5 then do something\n",
        "my_val = 1\n",
        "if my_val > 5:\n",
        "    # so we have code block when if is true\n",
        "    print(f\"{my_val} is larger than 5 wow!\")\n",
        "    # only runs when if statement is true\n",
        "    print(\"Only when if is true\")\n",
        "print(\"This will always run\")"
      ]
    },
    {
      "cell_type": "code",
      "execution_count": null,
      "metadata": {
        "id": "7MERGVD-i89W"
      },
      "outputs": [],
      "source": [
        "if 5 >= 5:\n",
        "    print(\"hello\")\n",
        "if 5 <= 5:\n",
        "    print(\"hello\")\n",
        "if 5 == 6:\n",
        "    print(\"hello thats magic\")\n",
        "if 5 != 6:\n",
        "    print(\"hello thats not magic\")"
      ]
    },
    {
      "cell_type": "code",
      "execution_count": null,
      "metadata": {
        "id": "xXm73E1wi89W"
      },
      "outputs": [],
      "source": [
        "if 2*2 == 4:\n",
        "    print(\"Do one thing if if is True\")\n",
        "    print(\"DO more things if if is True\")\n",
        "print(\"Do this always\")"
      ]
    },
    {
      "cell_type": "code",
      "execution_count": null,
      "metadata": {
        "id": "n8Ds9_NOi89X"
      },
      "outputs": [],
      "source": [
        "a = 4\n",
        "if 2*2 == a:\n",
        "    print(\"Do one thing if if is True\")\n",
        "    print(\"DO more things if if is True\")\n",
        "    \n",
        "    \n",
        "    print(\"Do more\")\n",
        "print(\"Do this always\")"
      ]
    },
    {
      "cell_type": "code",
      "execution_count": null,
      "metadata": {
        "id": "WNWDOZuQi89X"
      },
      "outputs": [],
      "source": [
        "a = 24\n",
        "if 2*2 == a:\n",
        "    print(\"Do one thing if if is True\")\n",
        "    print(\"DO more things if if is True\")\n",
        "    \n",
        "    if (a > 3):\n",
        "        print(\"Do more\")\n",
        "        \n",
        "if (a > 3):\n",
        "    print(\"a is larger than 3\")       \n",
        "# Last line will always be printed\n",
        "print(\"Do this always\")"
      ]
    },
    {
      "cell_type": "code",
      "execution_count": null,
      "metadata": {
        "id": "it72sjfVi89X"
      },
      "outputs": [],
      "source": [
        "a = input(\"What is your age \")\n",
        "print('Your age is ', a)"
      ]
    },
    {
      "cell_type": "code",
      "execution_count": null,
      "metadata": {
        "id": "3tcAisxxi89X"
      },
      "outputs": [],
      "source": [
        "c = int(input(\"Enter temperature in Celsius \"))\n",
        "f = c * 9/5 + 32\n",
        "print(\"Farenheit Temperature is\", f)"
      ]
    },
    {
      "cell_type": "code",
      "execution_count": null,
      "metadata": {
        "id": "Va9agEASi89X"
      },
      "outputs": [],
      "source": [
        "c = float(input(\"ievadiet  temperature in Celsius \"))\n",
        "f = c * 9/5 + 32\n",
        "print(\"Farenheit Temperature is\", f)\n",
        "if f > 100:\n",
        "    print(\"You are too hot, find a doctor?\")"
      ]
    },
    {
      "cell_type": "code",
      "execution_count": null,
      "metadata": {
        "id": "X9_u2Ssni89X"
      },
      "outputs": [],
      "source": [
        "# Show all current local variables\n",
        "%whos"
      ]
    },
    {
      "cell_type": "code",
      "execution_count": null,
      "metadata": {
        "id": "5Luo36H9i89Y"
      },
      "outputs": [],
      "source": [
        "%store"
      ]
    },
    {
      "cell_type": "code",
      "execution_count": null,
      "metadata": {
        "id": "VRAQ8XD2i89Y"
      },
      "outputs": [],
      "source": [
        "a = 5\n",
        "b = \"Food\""
      ]
    },
    {
      "cell_type": "code",
      "execution_count": null,
      "metadata": {
        "id": "Nete8qhdi89Y"
      },
      "outputs": [],
      "source": [
        "%whos"
      ]
    },
    {
      "cell_type": "code",
      "execution_count": null,
      "metadata": {
        "id": "fLZHQR8Ei89Y"
      },
      "outputs": [],
      "source": [
        "%store a"
      ]
    },
    {
      "cell_type": "code",
      "execution_count": null,
      "metadata": {
        "id": "CJFXxhlki89Y"
      },
      "outputs": [],
      "source": [
        "%whos"
      ]
    },
    {
      "cell_type": "code",
      "execution_count": null,
      "metadata": {
        "id": "1qAbsMbai89Y"
      },
      "outputs": [],
      "source": [
        "%store"
      ]
    },
    {
      "cell_type": "code",
      "execution_count": null,
      "metadata": {
        "id": "WTRjhwRti89Z"
      },
      "outputs": [],
      "source": [
        "#Retrieve variables from disk\n",
        "%store -r"
      ]
    },
    {
      "cell_type": "code",
      "execution_count": null,
      "metadata": {
        "id": "6WPS0YWUi89Z"
      },
      "outputs": [],
      "source": [
        "%whos"
      ]
    },
    {
      "cell_type": "code",
      "execution_count": null,
      "metadata": {
        "id": "W2X3zW39i89Z"
      },
      "outputs": [],
      "source": [
        "%store b"
      ]
    },
    {
      "cell_type": "code",
      "execution_count": null,
      "metadata": {
        "id": "PneYKXsgi89Z"
      },
      "outputs": [],
      "source": [
        "%store -r b"
      ]
    },
    {
      "cell_type": "code",
      "execution_count": null,
      "metadata": {
        "id": "0vXZzoMCi89Z"
      },
      "outputs": [],
      "source": [
        "b"
      ]
    },
    {
      "cell_type": "code",
      "execution_count": null,
      "metadata": {
        "id": "FU33laRei89Z"
      },
      "outputs": [],
      "source": [
        "%store -r a"
      ]
    },
    {
      "cell_type": "code",
      "execution_count": null,
      "metadata": {
        "id": "Ftet1DLCi89c"
      },
      "outputs": [],
      "source": [
        "a = 5\n",
        "if a > 5:\n",
        "    print('a is larger than 5')\n",
        "    # do more stuff\n",
        "else:\n",
        "    print('a is NOT larger than 5')\n",
        "    # do more stuff if a is not larger than 5\n",
        "print(\"Always print this\")"
      ]
    },
    {
      "cell_type": "code",
      "execution_count": null,
      "metadata": {
        "id": "3Np3SXDgi89d",
        "outputId": "8f7b175d-7009-41b5-ffb3-e0ba0cdeeae0"
      },
      "outputs": [
        {
          "name": "stdout",
          "output_type": "stream",
          "text": [
            "Enter an integer please! 42\n",
            "That is the answer to everything!\n",
            "Your number is 42\n"
          ]
        }
      ],
      "source": [
        "#elif comes from else if\n",
        "x = int(input(\"Enter an integer please! \"))\n",
        "if x > 42:\n",
        "    print(\"Too ambitious an answer!\")\n",
        "elif x < 42:\n",
        "    print(\"You dream too little!\")\n",
        "else:\n",
        "    print(\"That is the answer to everything!\")\n",
        "#These lines below will execute always\n",
        "print('Your number is', x)"
      ]
    },
    {
      "cell_type": "markdown",
      "metadata": {
        "id": "gkItyCfvi89i"
      },
      "source": [
        "## Loops\n",
        "* While\n",
        "* For\n",
        "* Do While (emulate)"
      ]
    },
    {
      "cell_type": "code",
      "execution_count": null,
      "metadata": {
        "id": "RRKIj4I3i89j"
      },
      "outputs": [],
      "source": [
        "sum(range(0,30))"
      ]
    },
    {
      "cell_type": "code",
      "execution_count": null,
      "metadata": {
        "id": "trSKUCMJi89j"
      },
      "outputs": [],
      "source": [
        "sum(range(0,30,5))"
      ]
    },
    {
      "cell_type": "code",
      "execution_count": null,
      "metadata": {
        "id": "HkJ13FDSi89j"
      },
      "outputs": [],
      "source": [
        "i = 0\n",
        "sum = 0\n",
        "while i < 30 and sum < 100:\n",
        "    print('i is ', i)\n",
        "    sum += i # same as sum = sum + i\n",
        "    print('sum is ', sum)\n",
        "    i += 1\n",
        "print('Final sum is ', sum)"
      ]
    },
    {
      "cell_type": "code",
      "execution_count": null,
      "metadata": {
        "id": "5jGLFrski89j"
      },
      "outputs": [],
      "source": [
        "i = 0\n",
        "while i < 5:\n",
        "    print('i is', round(i, 6), i )\n",
        "    i+=0.3 # same as i = i + 0.3\n",
        "print('All Done', round(i, 6))"
      ]
    },
    {
      "cell_type": "code",
      "execution_count": null,
      "metadata": {
        "id": "kkbMZi_hi89j"
      },
      "outputs": [],
      "source": [
        "# we can import an additional library for math functions\n",
        "import math\n",
        "math.ceil(5.7)"
      ]
    },
    {
      "cell_type": "code",
      "execution_count": null,
      "metadata": {
        "id": "obd7yLRji89j"
      },
      "outputs": [],
      "source": [
        "summa = 0\n",
        "maxnum = 30\n",
        "step = 5\n",
        "i = 0\n",
        "while i < 30:\n",
        "    summa += i\n",
        "    print(\"Value:\", i, \" Current Sum:\", summa)\n",
        "    i += step\n",
        "print(\"Iterator is\", i, \"Final sum is\", summa)\n",
        "    "
      ]
    },
    {
      "cell_type": "code",
      "execution_count": null,
      "metadata": {
        "id": "PhIOImB6i89k"
      },
      "outputs": [],
      "source": [
        "i = 0\n",
        "while True:\n",
        "    print(\"i is \", i)\n",
        "    i += 1\n",
        "    if i > 10:\n",
        "        break # this will exit the loop\n",
        "print(\"This will never print\", i)"
      ]
    },
    {
      "cell_type": "code",
      "execution_count": null,
      "metadata": {
        "id": "qn74DZFEi89k"
      },
      "outputs": [],
      "source": [
        "i = 0\n",
        "sum = 0\n",
        "while i < 10:\n",
        "    print(i)\n",
        "    i += 1\n",
        "    if i > 5:\n",
        "        print(\"continuing loop when i is \", i)\n",
        "        continue\n",
        "    sum += i # this line will not be process if continue fires\n",
        "print(sum)"
      ]
    },
    {
      "cell_type": "code",
      "execution_count": null,
      "metadata": {
        "id": "E40a5w_Yi89k"
      },
      "outputs": [],
      "source": [
        "i"
      ]
    },
    {
      "cell_type": "code",
      "execution_count": null,
      "metadata": {
        "id": "yX1xgvO_i89k"
      },
      "outputs": [],
      "source": [
        "# This will run forever and you will need to restart kernel\n",
        "i = 0\n",
        "while True:\n",
        "    print(\"This print forever i is\", i)\n",
        "    i += 1\n",
        "    if i > 5:\n",
        "        print(\"Actually I decided to stop when i is\", i)\n",
        "        break # here we break out of while loop\n",
        "    \n",
        "print(\"This prints when we break out of loop\")"
      ]
    },
    {
      "cell_type": "code",
      "execution_count": null,
      "metadata": {
        "id": "USTy2pMBi89k"
      },
      "outputs": [],
      "source": [
        "summa = 0\n",
        "maxnum = 30\n",
        "i = 0\n",
        "while i < maxnum:\n",
        "    summa += i\n",
        "    print(\"Current sum is\", summa)\n",
        "    i += 1\n",
        "print(\"Final sum is\", summa)\n",
        "    "
      ]
    },
    {
      "cell_type": "code",
      "execution_count": null,
      "metadata": {
        "id": "Y9ydbQt9i89k"
      },
      "outputs": [],
      "source": [
        "sum(range(10))"
      ]
    },
    {
      "cell_type": "code",
      "execution_count": null,
      "metadata": {
        "id": "zf6jDx7oi89l"
      },
      "outputs": [],
      "source": [
        "sum(range(0,22,2))"
      ]
    },
    {
      "cell_type": "code",
      "execution_count": null,
      "metadata": {
        "id": "bkXjgpNZi89l"
      },
      "outputs": [],
      "source": [
        "summa = 0\n",
        "i = 2\n",
        "while i <= 20:\n",
        "    summa += i # summa = summa + i\n",
        "    print('Sum is ', summa)\n",
        "    i += 2\n",
        "print(\"Final sum\", summa)"
      ]
    },
    {
      "cell_type": "code",
      "execution_count": null,
      "metadata": {
        "id": "lC1qaMBAi89l"
      },
      "outputs": [],
      "source": [
        "a = 2018\n",
        "b = 2019\n",
        "print(a,b)"
      ]
    },
    {
      "cell_type": "code",
      "execution_count": null,
      "metadata": {
        "id": "QyROh0tZi89l"
      },
      "outputs": [],
      "source": [
        "a = b\n",
        "print(a,b)"
      ]
    },
    {
      "cell_type": "code",
      "execution_count": null,
      "metadata": {
        "id": "AuFhO0vri89l"
      },
      "outputs": [],
      "source": [
        "a = 2018\n",
        "b = 2019\n",
        "print(a,b)"
      ]
    },
    {
      "cell_type": "code",
      "execution_count": null,
      "metadata": {
        "id": "LDRpg3tRi89l"
      },
      "outputs": [],
      "source": [
        "temp = a\n",
        "a = b\n",
        "b = temp\n",
        "print(a, b)"
      ]
    },
    {
      "cell_type": "code",
      "execution_count": null,
      "metadata": {
        "id": "ADlsaTeai89m"
      },
      "outputs": [],
      "source": [
        "#More python way to exchange values\n",
        "print(\"Before swap\\t\", a, b)\n",
        "a, b = b, a\n",
        "print(\"After swap\\t\", a, b)"
      ]
    },
    {
      "cell_type": "code",
      "execution_count": null,
      "metadata": {
        "id": "nLbQAzvci89m"
      },
      "outputs": [],
      "source": [
        "c = 2020\n",
        "d = 2077"
      ]
    },
    {
      "cell_type": "code",
      "execution_count": null,
      "metadata": {
        "id": "27EqZhOoi89m"
      },
      "outputs": [],
      "source": [
        "# we can swap many values at once\n",
        "print(a,b,c,d)\n",
        "a,b,c,d = d,c,b,a # we calculate from right to left\n",
        "print(a,b,c,d)"
      ]
    },
    {
      "cell_type": "code",
      "execution_count": null,
      "metadata": {
        "id": "rE90T4Dmi89m"
      },
      "outputs": [],
      "source": [
        "# Good old Fibonacci\n",
        "#a, b, c = 0, 1, 10\n",
        "a = 1\n",
        "b = 1\n",
        "c = 10\n",
        "while c < 100:\n",
        "    print(a, b, c, b/a)\n",
        "    a, b, c = b, a+b, c+1 # multiple assignment yay! right side from left to right eval first then assigned to left!\n",
        "print(c)"
      ]
    },
    {
      "cell_type": "code",
      "execution_count": null,
      "metadata": {
        "id": "q4P6b4SVi89m"
      },
      "outputs": [],
      "source": [
        "name = \"Valdis\"\n",
        "for c in name: # we will loop through all characters in name\n",
        "    print(c)"
      ]
    },
    {
      "cell_type": "code",
      "execution_count": null,
      "metadata": {
        "id": "Q5QuWz0Fi89m"
      },
      "outputs": [],
      "source": [
        "for n in range(10):\n",
        "    print(n)"
      ]
    },
    {
      "cell_type": "code",
      "execution_count": null,
      "metadata": {
        "id": "29nfUQZmi89n"
      },
      "outputs": [],
      "source": [
        "# this is an anti-pattern, try to avoid this\n",
        "for c in range(len(name)):\n",
        "    print(name[c])"
      ]
    },
    {
      "cell_type": "code",
      "execution_count": null,
      "metadata": {
        "id": "oFWf3zRri89n"
      },
      "outputs": [],
      "source": [
        "c"
      ]
    },
    {
      "cell_type": "code",
      "execution_count": null,
      "metadata": {
        "id": "-Hy1O_SGi89n"
      },
      "outputs": [],
      "source": [
        "for x in range(10):\n",
        "    print(x, end=\"*\")"
      ]
    },
    {
      "cell_type": "code",
      "execution_count": null,
      "metadata": {
        "id": "i5Qau83mi89o"
      },
      "outputs": [],
      "source": [
        "for x in [1,6,3,77,788]:\n",
        "    print(x, x*x)\n",
        "    # we could do more with our x here and do more\n",
        "print(x)"
      ]
    },
    {
      "cell_type": "code",
      "execution_count": null,
      "metadata": {
        "id": "GOGdUMz_i89o"
      },
      "outputs": [],
      "source": [
        "for c in \"Valdis\":\n",
        "    print(c)"
      ]
    },
    {
      "cell_type": "code",
      "execution_count": null,
      "metadata": {
        "id": "DDWzpvw0i89o"
      },
      "outputs": [],
      "source": [
        "name = \"Valdis\"\n",
        "#Not Pythonic\n",
        "for i in range(len(name)):\n",
        "    print(i, name[i])"
      ]
    },
    {
      "cell_type": "code",
      "execution_count": null,
      "metadata": {
        "id": "SIPijBD5i89q"
      },
      "outputs": [],
      "source": [
        "name=\"Valdis Saules\"\n",
        "# Pythonic Way to number items in an iterable\n",
        "for i, el in enumerate(name,start=1000):\n",
        "    print(i, el)\n",
        "print(\"At end\", i, el)    "
      ]
    },
    {
      "cell_type": "code",
      "execution_count": null,
      "metadata": {
        "id": "0y95STQbi89r"
      },
      "outputs": [],
      "source": [
        "for el in name:\n",
        "    print(el)"
      ]
    },
    {
      "cell_type": "code",
      "execution_count": null,
      "metadata": {
        "id": "oA2L4E_Ui89t"
      },
      "outputs": [],
      "source": [
        "groceries = [\"Bread\", \"Milk\", \"Chocolate\"]\n",
        "for elem in groceries:\n",
        "    print(\"I need to buy\", elem)"
      ]
    },
    {
      "cell_type": "code",
      "execution_count": null,
      "metadata": {
        "id": "k8UPpK3Bi89t"
      },
      "outputs": [],
      "source": [
        "mlist = list(range(0,20,2))\n",
        "mlist"
      ]
    },
    {
      "cell_type": "code",
      "execution_count": null,
      "metadata": {
        "id": "-NSrJj66i89t"
      },
      "outputs": [],
      "source": [
        "mlist[5]"
      ]
    },
    {
      "cell_type": "code",
      "execution_count": null,
      "metadata": {
        "id": "WDbL5UyRi89t"
      },
      "outputs": [],
      "source": [
        "d={}\n",
        "for index, elem in enumerate([1,2,6,55]):\n",
        "    print(index, elem)\n",
        "    d[str(index)]=elem\n",
        "print(d)\n"
      ]
    },
    {
      "cell_type": "code",
      "execution_count": null,
      "metadata": {
        "id": "tncdzhwXi89u"
      },
      "outputs": [],
      "source": [
        "nd={}\n",
        "for index, elem in enumerate([1,2,6,55]):\n",
        "    print(index, elem)\n",
        "    nd[index]=elem\n",
        "print(nd)\n"
      ]
    },
    {
      "cell_type": "code",
      "execution_count": null,
      "metadata": {
        "id": "QoHQBuSIi89u"
      },
      "outputs": [],
      "source": [
        "d['2']"
      ]
    },
    {
      "cell_type": "code",
      "execution_count": null,
      "metadata": {
        "id": "KS6vXVO7i89u"
      },
      "outputs": [],
      "source": [
        "nd[3]"
      ]
    },
    {
      "cell_type": "code",
      "execution_count": null,
      "metadata": {
        "id": "IRwWQPlqi89u"
      },
      "outputs": [],
      "source": [
        "nd[2]"
      ]
    },
    {
      "cell_type": "code",
      "execution_count": null,
      "metadata": {
        "scrolled": false,
        "id": "N9xSv2ORi89u"
      },
      "outputs": [],
      "source": [
        "nd['2']"
      ]
    },
    {
      "cell_type": "code",
      "execution_count": null,
      "metadata": {
        "id": "VywdMN0Bi89u"
      },
      "outputs": [],
      "source": [
        "d"
      ]
    },
    {
      "cell_type": "code",
      "execution_count": null,
      "metadata": {
        "id": "4nZZARvoi89v"
      },
      "outputs": [],
      "source": [
        "# also for k,v in d.items(): any names will do\n",
        "for key, value in d.items():\n",
        "    print('My dictionary item with key:',key, \" value:\", value)"
      ]
    },
    {
      "cell_type": "code",
      "execution_count": null,
      "metadata": {
        "id": "r8TE1pnhi89v"
      },
      "outputs": [],
      "source": [
        "# How to iterate over a dictionary\n",
        "for key, value in d.items():\n",
        "    print(\"Processing\")\n",
        "    # here we add an if statement\n",
        "    if value % 2 == 0:\n",
        "        print(key,value)"
      ]
    },
    {
      "cell_type": "code",
      "execution_count": null,
      "metadata": {
        "id": "U6Qo41Qwi89v"
      },
      "outputs": [],
      "source": [
        "# outer loop\n",
        "for a in range(1,5):\n",
        "    # inner loop\n",
        "    for b in range(20,24):\n",
        "        print(a,b)"
      ]
    },
    {
      "cell_type": "code",
      "execution_count": null,
      "metadata": {
        "id": "LLUKlpKHi89v"
      },
      "outputs": [],
      "source": [
        "print(a,b)"
      ]
    },
    {
      "cell_type": "code",
      "execution_count": null,
      "metadata": {
        "id": "jQ_mtdfji89v"
      },
      "outputs": [],
      "source": [
        "for a in range(1,9):\n",
        "    print('A is ', a)\n",
        "    for b in range(a,6):\n",
        "        print(a,b)"
      ]
    },
    {
      "cell_type": "code",
      "execution_count": null,
      "metadata": {
        "id": "qpFzBJY0i89v"
      },
      "outputs": [],
      "source": [
        "n=0\n",
        "for a in range(1,4):\n",
        "    for b in range(11,14):\n",
        "        for c in range(21,24):\n",
        "            print(n, a, b, c)\n",
        "            n+=1"
      ]
    },
    {
      "cell_type": "code",
      "execution_count": null,
      "metadata": {
        "id": "r6RJoyF8i89w"
      },
      "outputs": [],
      "source": [
        "#The break statement, like in C, breaks out of the innermost enclosing for or while loop.\n",
        "\n",
        "#Loop statements may have an else clause; it is executed when the loop terminates through exhaustion of the list (with for) or when the condition becomes false (with while), but not when the loop is terminated by a break statement. This is exemplified by the following loop, which searches for prime numbers:\n",
        "\n",
        "for n in range(2, 10):\n",
        "    for x in range(2, n):\n",
        "        if n % x == 0:\n",
        "            print(n, 'equals', x, '*', n//x)\n",
        "            break\n",
        "    else: #badly named Else IMHO! should be exhausted not ELSE!!! VS\n",
        "        # loop fell through without finding a factor\n",
        "        print(n, 'is a prime number')"
      ]
    },
    {
      "cell_type": "code",
      "execution_count": null,
      "metadata": {
        "id": "Fwcwooowi89w"
      },
      "outputs": [],
      "source": [
        "# The pass statement does nothing. It can be used when a statement is required syntactically but the program requires no action. For example:\n",
        "# Do not run this !!!\n",
        "while True:\n",
        "    pass  # Busy-wait for keyboard interrupt (Ctrl+C)"
      ]
    },
    {
      "cell_type": "code",
      "execution_count": null,
      "metadata": {
        "id": "54JJKtTwi89y"
      },
      "outputs": [],
      "source": [
        "#emulated do while loop\n",
        "a=0\n",
        "while True:\n",
        "    # statement(s)\n",
        "    a+=1\n",
        "    print(a)\n",
        "    if not a < 5:\n",
        "        break"
      ]
    },
    {
      "cell_type": "markdown",
      "metadata": {
        "id": "9hSXDWaIi89y"
      },
      "source": [
        "## Iterating over lists"
      ]
    },
    {
      "cell_type": "code",
      "execution_count": null,
      "metadata": {
        "id": "FSKqyNrgi890"
      },
      "outputs": [],
      "source": [
        "for i in range(10):\n",
        "    print(i, end='')  #Python 3.x specific "
      ]
    },
    {
      "cell_type": "code",
      "execution_count": null,
      "metadata": {
        "id": "S1dLlT7ui891"
      },
      "outputs": [],
      "source": [
        "for i in range(10):\n",
        "    print(f'{i} ',end='')  #Python 3.6+ specific "
      ]
    },
    {
      "cell_type": "code",
      "execution_count": null,
      "metadata": {
        "id": "lFTRM3cii891"
      },
      "outputs": [],
      "source": [
        "names=['Alice','Bob','Carol','David']\n",
        "for n in names:\n",
        "    print(n, len(n))"
      ]
    },
    {
      "cell_type": "code",
      "execution_count": null,
      "metadata": {
        "id": "lvzwE7Kei891"
      },
      "outputs": [],
      "source": [
        "# An older Pythonic method of iterating over indices of a sequence\n",
        "# an anti-pattern \n",
        "for i in range(len(names)):\n",
        "    print(i, names[i])\n"
      ]
    },
    {
      "cell_type": "code",
      "execution_count": null,
      "metadata": {
        "id": "cM6hyg44i891"
      },
      "outputs": [],
      "source": []
    },
    {
      "cell_type": "code",
      "execution_count": null,
      "metadata": {
        "id": "mGU4l2X-i891"
      },
      "outputs": [],
      "source": [
        "for i, name in enumerate(names):\n",
        "    print(i, name)"
      ]
    },
    {
      "cell_type": "code",
      "execution_count": null,
      "metadata": {
        "id": "2QZgzBxWi891"
      },
      "outputs": [],
      "source": [
        "mycollection=[]\n",
        "for el in mycollection:\n",
        "    pass # empty operation\n",
        "    # do work on el in your collection\n"
      ]
    },
    {
      "cell_type": "code",
      "execution_count": null,
      "metadata": {
        "id": "VjQlU65ni891"
      },
      "outputs": [],
      "source": [
        "squares = []"
      ]
    },
    {
      "cell_type": "code",
      "execution_count": null,
      "metadata": {
        "id": "jAl9BgK7i892"
      },
      "outputs": [],
      "source": [
        "squares = []\n",
        "# For example, assume we want to create a list of squares, like:\n",
        "for x in range(30,40,2):\n",
        "    squares.append(f'Square of {{x}} {x} is {x**2}')\n",
        "    squares.append('Square of {x} ' +str(x) + ' is ' + str(x**2))\n",
        "squares\n",
        "#[0, 1, 4, 9, 16, 25, 36, 49, 64, 81]\n"
      ]
    },
    {
      "cell_type": "markdown",
      "metadata": {
        "id": "0gUwAP5wi892"
      },
      "source": [
        "# List Comprehensions"
      ]
    },
    {
      "cell_type": "code",
      "execution_count": null,
      "metadata": {
        "id": "hSZoi3PCi892"
      },
      "outputs": [],
      "source": [
        "mlist = [x**2 for x in range(10)]\n",
        "mlist"
      ]
    },
    {
      "cell_type": "code",
      "execution_count": null,
      "metadata": {
        "id": "m_zSDpOEi892"
      },
      "outputs": [],
      "source": [
        "mylist = [x+5 for x in range(10) if x%2 == 0]\n",
        "mylist"
      ]
    },
    {
      "cell_type": "code",
      "execution_count": null,
      "metadata": {
        "id": "KlAqwhgEi892"
      },
      "outputs": [],
      "source": [
        "myl = [x+10 for x in range(5) if x%2 == 0]\n",
        "myl"
      ]
    },
    {
      "cell_type": "code",
      "execution_count": null,
      "metadata": {
        "id": "MwHFEnB4i892"
      },
      "outputs": [],
      "source": [
        "\"kartupelis\"[::2]"
      ]
    },
    {
      "cell_type": "code",
      "execution_count": null,
      "metadata": {
        "id": "ebxtGXTii892"
      },
      "outputs": [],
      "source": [
        "mytlist = [\"Letter is \"+ c for c in \"kartupelis\" if c > 'e']\n",
        "mytlist"
      ]
    },
    {
      "cell_type": "code",
      "execution_count": null,
      "metadata": {
        "id": "5vPQ2NZ_i892"
      },
      "outputs": [],
      "source": [
        "name = \"Valdis Saules\"\n",
        "mynd = {\"key \"+c: ord(c) for c in name}\n",
        "mynd"
      ]
    },
    {
      "cell_type": "code",
      "execution_count": null,
      "metadata": {
        "id": "2QP4RpXBi893"
      },
      "outputs": [],
      "source": [
        "name = \"Valdis Saules\"\n",
        "mynd = {\"key \"+c+str(i): [c, ord(c)] for i,c in enumerate(name)}\n",
        "mynd"
      ]
    },
    {
      "cell_type": "code",
      "execution_count": null,
      "metadata": {
        "id": "sCQ-wttji893"
      },
      "outputs": [],
      "source": [
        "mylist=[]\n",
        "for x in range(10):\n",
        "    mylist.append(x+5)\n"
      ]
    },
    {
      "cell_type": "code",
      "execution_count": null,
      "metadata": {
        "id": "fPyzzFKmi893"
      },
      "outputs": [],
      "source": [
        "# Note that this creates (or overwrites) a variable named x that still exists after the loop completes. We can calculate the list of squares without any side effects using:\n",
        "\n",
        "# squares = list(map(lambda x: x**2, range(10)))\n",
        "\n",
        "squares = [x**2 for x in range(10)]\n",
        "squares"
      ]
    },
    {
      "cell_type": "code",
      "execution_count": null,
      "metadata": {
        "id": "dI2iaZ_Mi894"
      },
      "outputs": [],
      "source": [
        "squares = [x**2 for x in range(10) if x % 2 == 1]\n",
        "squares"
      ]
    },
    {
      "cell_type": "code",
      "execution_count": null,
      "metadata": {
        "id": "PYhao3MYi894"
      },
      "outputs": [],
      "source": [
        "mydict = {\"key \"+c: ord(c) for c in \"kartupelis\"}\n",
        "mydict"
      ]
    },
    {
      "cell_type": "code",
      "execution_count": null,
      "metadata": {
        "id": "DXuxbCCgi894"
      },
      "outputs": [],
      "source": [
        "# In addition, dict comprehensions can be used to create dictionaries from arbitrary key and value expressions:\n",
        "\n",
        "\n",
        "sqrs={str(x): x**2 for x in range(1,20)}\n",
        "print(sqrs)\n"
      ]
    },
    {
      "cell_type": "code",
      "execution_count": null,
      "metadata": {
        "id": "VAyinotoi894"
      },
      "outputs": [],
      "source": [
        "sqrs[5]\n"
      ]
    },
    {
      "cell_type": "code",
      "execution_count": null,
      "metadata": {
        "id": "KX13MwBci894"
      },
      "outputs": [],
      "source": [
        "#When looping through dictionaries, the key and corresponding value can be retrieved at the same time using the items() method.\n",
        "\n",
        "knights = {'gallahad': 'the pure', 'robin': 'the brave'}\n",
        "for k, v in knights.items():\n",
        "    print(k, v)"
      ]
    },
    {
      "cell_type": "markdown",
      "metadata": {
        "id": "-mxJaPFHi894"
      },
      "source": [
        "## Avoid changing the sequence that you loop(iterate) over!"
      ]
    },
    {
      "cell_type": "code",
      "execution_count": null,
      "metadata": {
        "id": "LdtBEb3Wi895"
      },
      "outputs": [],
      "source": [
        "mlist = list(range(10))\n",
        "mlist"
      ]
    },
    {
      "cell_type": "code",
      "execution_count": null,
      "metadata": {
        "id": "gNZul9LVi895"
      },
      "outputs": [],
      "source": [
        "for el in mlist:\n",
        "    print(el)\n",
        "    # do not modify mlist when going looping through:"
      ]
    },
    {
      "cell_type": "code",
      "execution_count": null,
      "metadata": {
        "id": "YY8DNs36i895"
      },
      "outputs": [],
      "source": [
        "names"
      ]
    },
    {
      "cell_type": "code",
      "execution_count": null,
      "metadata": {
        "id": "npNect97i895"
      },
      "outputs": [],
      "source": [
        "\n",
        "for n in names[:]: #Looping over shallow copy of a list useful if we are going to modify the original list!\n",
        "    if n[0]=='B':\n",
        "        names.append(n)\n",
        "print(names)\n",
        "    "
      ]
    },
    {
      "cell_type": "code",
      "execution_count": null,
      "metadata": {
        "id": "JLg-v_Yii895"
      },
      "outputs": [],
      "source": [
        "## Enumerate method\n",
        "#When looping through a sequence, the position index and corresponding value can be retrieved at the same time using the enumerate() function.\n",
        "\n",
        "\n",
        "for i, v in enumerate(['tic', 'tac', 'toe']):\n",
        "    print(i, v)\n"
      ]
    },
    {
      "cell_type": "markdown",
      "metadata": {
        "id": "jrtOPIoJi895"
      },
      "source": [
        "### To loop over two or more sequences at the same time, the entries can be paired with the zip() function."
      ]
    },
    {
      "cell_type": "code",
      "execution_count": null,
      "metadata": {
        "id": "lMKp4o_Oi895"
      },
      "outputs": [],
      "source": [
        "mlist"
      ]
    },
    {
      "cell_type": "code",
      "execution_count": null,
      "metadata": {
        "id": "Ki1_nJc8i895"
      },
      "outputs": [],
      "source": [
        "# two ways of looping through list and creating a new list\n",
        "clist = []\n",
        "for el in mlist:\n",
        "    clist.append(el**3)\n",
        "clist"
      ]
    },
    {
      "cell_type": "code",
      "execution_count": null,
      "metadata": {
        "id": "5Y1o8XhFi896"
      },
      "outputs": [],
      "source": [
        "# second way of creating a list\n",
        "clist = [x**3 for x in range(10)]\n",
        "clist"
      ]
    },
    {
      "cell_type": "code",
      "execution_count": null,
      "metadata": {
        "id": "0Ke1vMpFi896"
      },
      "outputs": [],
      "source": [
        "for a,b in zip(mlist,clist[:5]):\n",
        "    print(a,b)"
      ]
    },
    {
      "cell_type": "code",
      "execution_count": null,
      "metadata": {
        "id": "n7zOm2Mji896"
      },
      "outputs": [],
      "source": [
        "questions = ['name', 'quest', 'favorite color']\n",
        "answers = ['lancelot', 'the holy grail', 'blue']\n",
        "for q, a in zip(questions, answers):\n",
        "    print(f'What is your {q}?  It is {a}.')"
      ]
    },
    {
      "cell_type": "code",
      "execution_count": null,
      "metadata": {
        "id": "d_UZ-0A7i896"
      },
      "outputs": [],
      "source": [
        "# To loop over a sequence in reverse, first specify the sequence in a forward direction and then call the reversed() function.\n",
        "\n",
        "\n",
        "for i in reversed(range(1, 10, 2)):\n",
        "    print(i)"
      ]
    },
    {
      "cell_type": "code",
      "execution_count": null,
      "metadata": {
        "id": "Hm9YUy5xi896"
      },
      "outputs": [],
      "source": [
        "# To loop over a sequence in sorted order, use the sorted() function which returns a new sorted list while leaving the source unaltered.\n",
        "\n",
        "\n",
        "basket = ['apple', 'orange', 'apple', 'pear', 'orange', 'banana']\n",
        "for f in sorted(set(basket)):\n",
        "    print(f)"
      ]
    },
    {
      "cell_type": "markdown",
      "metadata": {
        "id": "tw5cdu9Fi896"
      },
      "source": [
        "## Homework\n",
        "### Write a program that goes over(iterates) numbers from 1 to 100(included)\n",
        "* For each number it prints Fizz if number divides by 5 even\n",
        "* For each number it prints Buzz if number divides by 7 evenly\n",
        "* If number divides by 5 AND 7 print FizzBuzz\n",
        "* print number if it does not divide by 5 nor 7\n",
        "* 1,2,3,4,Fizz,6,Buzz,8,9,Fizz,11,.......34,FizzBuzz,36"
      ]
    },
    {
      "cell_type": "code",
      "execution_count": null,
      "metadata": {
        "id": "-9mYLmdUi896"
      },
      "outputs": [],
      "source": [
        "1,2,3,4,\"Fizz\""
      ]
    },
    {
      "cell_type": "code",
      "execution_count": null,
      "metadata": {
        "id": "k-9scTlMi896"
      },
      "outputs": [],
      "source": [
        "for x in range(1,101):\n",
        "    print(x)"
      ]
    }
  ],
  "metadata": {
    "kernelspec": {
      "display_name": "Python 3",
      "language": "python",
      "name": "python3"
    },
    "language_info": {
      "codemirror_mode": {
        "name": "ipython",
        "version": 3
      },
      "file_extension": ".py",
      "mimetype": "text/x-python",
      "name": "python",
      "nbconvert_exporter": "python",
      "pygments_lexer": "ipython3",
      "version": "3.7.3"
    },
    "colab": {
      "provenance": []
    }
  },
  "nbformat": 4,
  "nbformat_minor": 0
}