{
  "cells": [
    {
      "cell_type": "code",
      "execution_count": null,
      "metadata": {
        "colab": {
          "base_uri": "https://localhost:8080/"
        },
        "id": "NID8P6UGXdzi",
        "outputId": "6c787231-240e-4b9f-f281-ca807b7857c5"
      },
      "outputs": [
        {
          "output_type": "stream",
          "name": "stdout",
          "text": [
            "Hello\n",
            "Hello\n"
          ]
        }
      ],
      "source": [
        "print(\"Hello\")\n",
        "print(\"Hello\")\n",
        "# how to do this 100 times (we are not going to paste print 100 times are we ? :)"
      ]
    },
    {
      "cell_type": "markdown",
      "source": [
        "# While loops"
      ],
      "metadata": {
        "id": "omdfduzchc-9"
      }
    },
    {
      "cell_type": "markdown",
      "metadata": {
        "id": "eUj9I6jGXdzl"
      },
      "source": [
        "![While](https://upload.wikimedia.org/wikipedia/commons/thumb/4/43/While-loop-diagram.svg/440px-While-loop-diagram.svg.png)"
      ]
    },
    {
      "cell_type": "code",
      "execution_count": 1,
      "metadata": {
        "colab": {
          "base_uri": "https://localhost:8080/"
        },
        "id": "cR3eQfNMXdzm",
        "outputId": "0fb3fb4c-66a3-44d9-8f8a-fd80ca17a158"
      },
      "outputs": [
        {
          "output_type": "stream",
          "name": "stdout",
          "text": [
            "i <= 5 True\n",
            "Hello No. 0\n",
            "I can do more stuff here\n",
            "i <= 5 True\n",
            "Hello No. 1\n",
            "I can do more stuff here\n",
            "i <= 5 True\n",
            "Hello No. 2\n",
            "I can do more stuff here\n",
            "i <= 5 True\n",
            "Hello No. 3\n",
            "I can do more stuff here\n",
            "i <= 5 True\n",
            "Hello No. 4\n",
            "I can do more stuff here\n",
            "i <= 5 True\n",
            "Hello No. 5\n",
            "I can do more stuff here\n",
            "Always happens once loop is finished\n",
            "i is now 6\n"
          ]
        }
      ],
      "source": [
        "i = 0\n",
        "while i <= 5:  # so loop while the statement to the left is True\n",
        "# iegaume iekavas\n",
        "    print(\"i <= 5\", i <= 5)\n",
        "    print(\"Hello No.\", i)\n",
        "    print(\"I can do more stuff here\")\n",
        "    i += 1 # same as  i = i + 1, sis ir obligati!!!! you will got forever loop\n",
        "print(\"Always happens once loop is finished\")\n",
        "print(\"i is now\", i)"
      ]
    },
    {
      "cell_type": "code",
      "execution_count": 3,
      "metadata": {
        "colab": {
          "base_uri": "https://localhost:8080/"
        },
        "id": "5jzFEpcwXdzm",
        "outputId": "e8068861-3ac3-4e18-b3cd-518b44039738"
      },
      "outputs": [
        {
          "output_type": "stream",
          "name": "stdout",
          "text": [
            "Going down the floor: 10\n",
            "Going down the floor: 8\n",
            "Going down the floor: 6\n",
            "Going down the floor: 4\n",
            "Going down the floor: 2\n",
            "Whew we are done with this i: 0\n"
          ]
        }
      ],
      "source": [
        "i = 10 # instead of i we can use any other variable\n",
        "while i > 0:\n",
        "    print(\"Going down the floor:\", i)\n",
        "    # i could do more stuff\n",
        "    # we can make steps larger, like 2\n",
        "    i -= 2  # this is the same as writing i = i - 2\n",
        "print(\"Whew we are done with this i:\", i)\n"
      ]
    },
    {
      "cell_type": "markdown",
      "source": [
        "# break - \n",
        "we can break out of loops early, we could even make infinite loops with break conditions"
      ],
      "metadata": {
        "id": "28COQoa3ZZ0q"
      }
    },
    {
      "cell_type": "code",
      "execution_count": 9,
      "metadata": {
        "colab": {
          "base_uri": "https://localhost:8080/"
        },
        "id": "X-do2r8gXdzn",
        "outputId": "9ab0f51e-c74a-4e17-f788-63bf193e6eb6"
      },
      "outputs": [
        {
          "output_type": "stream",
          "name": "stdout",
          "text": [
            "i is 200\n",
            "i is 240\n",
            "i is 280\n",
            "i is 320\n",
            "i is 360\n",
            "i is 400\n",
            "i is 440\n",
            "i is 480\n",
            "i is 520\n",
            "I want to break free!!! i is 520\n",
            "We are out of the loop finally and i is 520\n"
          ]
        }
      ],
      "source": [
        "i = 200\n",
        "while True: # this is a normal construction, often used with break, so do something forever, but possible break out\n",
        "    print(\"i is\",i)  # so this line will be run at least once  no matter the condition under neath\n",
        "    if i > 500:\n",
        "        print(\"I want to break free!!! i is\", i)\n",
        "        break # break gets us to the next line after the loop\n",
        "    i += 40  # same as i = i + 40\n",
        "# the break takes us here\n",
        "print(\"We are out of the loop finally and i is\", i) "
      ]
    },
    {
      "cell_type": "code",
      "source": [
        "# its do while loop in Python"
      ],
      "metadata": {
        "id": "Lo-Rz10lqgH6"
      },
      "execution_count": null,
      "outputs": []
    },
    {
      "cell_type": "markdown",
      "source": [
        "# continue - return to the start of the loop"
      ],
      "metadata": {
        "id": "4hurtX0RbAhb"
      }
    },
    {
      "cell_type": "code",
      "execution_count": 18,
      "metadata": {
        "colab": {
          "base_uri": "https://localhost:8080/"
        },
        "id": "4v81BBYvXdzn",
        "outputId": "e84a0859-acda-4521-a292-052db06edc66"
      },
      "outputs": [
        {
          "output_type": "stream",
          "name": "stdout",
          "text": [
            "Enter number or q to quit 67\n",
            "My calculator says cube of 67.0 is 300763.0\n",
            "Enter number or q to quit hhu\n",
            "OOps Value error, enter an integer or float please!\n",
            "Enter number or q to quit q\n",
            "No more calculations today\n",
            "All done whew!\n"
          ]
        }
      ],
      "source": [
        "while True:\n",
        "    res = input(\"Enter number or q to quit \")\n",
        "    if res == \"q\":\n",
        "        print(\"No more calculations today\")\n",
        "        break  # we finally get out of the loop\n",
        "   # elif res == \"a\": # TODO check if if the input is text\n",
        "      #  print(\"I can't cube a letter a\")\n",
        "      #  continue # means we do with letter a but go back to begginging and ask for new input\n",
        "    try: \n",
        "     num = float(res)\n",
        "    except ValueError:\n",
        "       print(\"OOps Value error, enter an integer or float please!\")\n",
        "       continue #we will go back to beggining\n",
        "    cube = num**3\n",
        "    cube = round(cube, 2)  # this rounds the num to 2 digits after comma(dot in English) instead of 2 i could use any other positive number\n",
        "    # default for round is 0, that is the number is rounded to integer\n",
        "    \n",
        "    print(f\"My calculator says cube of {num} is {cube}\")\n",
        "\n",
        "print(\"All done whew!\")"
      ]
    },
    {
      "cell_type": "markdown",
      "metadata": {
        "id": "NPocQ-ayXdzo"
      },
      "source": [
        "![DoWhile](https://upload.wikimedia.org/wikipedia/commons/thumb/9/92/Do-while-loop-diagram.svg/440px-Do-while-loop-diagram.svg.png)"
      ]
    },
    {
      "cell_type": "code",
      "execution_count": 22,
      "metadata": {
        "colab": {
          "base_uri": "https://localhost:8080/"
        },
        "id": "Aw2dpED-Xdzp",
        "outputId": "217d0492-0b47-46e6-ff7e-3fdab8b4f705"
      },
      "outputs": [
        {
          "output_type": "stream",
          "name": "stdout",
          "text": [
            "Value of i 20\n",
            "This and above line will always happen\n",
            "Value of i 19\n",
            "This and above line will always happen\n",
            "Value of i 18\n",
            "This and above line will always happen\n",
            "Value of i 17\n",
            "This and above line will always happen\n",
            "Value of i 16\n",
            "This and above line will always happen\n",
            "Value of i 15\n",
            "This and above line will always happen\n",
            "Value of i 14\n",
            "This and above line will always happen\n",
            "Value of i 13\n",
            "This and above line will always happen\n",
            "Value of i 12\n",
            "This and above line will always happen\n",
            "Value of i 11\n",
            "This and above line will always happen\n",
            "Value of i 10\n",
            "This and above line will always happen\n",
            "Value of i 9\n",
            "This and above line will always happen\n",
            "Value of i 8\n",
            "This and above line will always happen\n",
            "Value of i 7\n",
            "This and above line will always happen\n",
            "Value of i 6\n",
            "This and above line will always happen\n",
            "Value of i 5\n",
            "This and above line will always happen\n",
            "My break condition= 4\n",
            "This always runs after the loop is done and i = 4\n"
          ]
        }
      ],
      "source": [
        "# emulating do while\n",
        "# do while loop property is that the loop runs at least once\n",
        "i = 20\n",
        "while True:\n",
        "    print(\"Value of i\", i)\n",
        "    print(\"This and above line will always happen\")\n",
        "    i -= 1 # i am goind down so what will happen will we break out ?\n",
        "    if i < 5:\n",
        "      print(\"My break condition=\", i)\n",
        "      break\n",
        "    \n",
        "print(\"This always runs after the loop is done and i =\", i)"
      ]
    },
    {
      "cell_type": "code",
      "source": [
        "# nested while loops\n",
        "x = 0\n",
        "# outer loop starts\n",
        "while x < 4:\n",
        "   \n",
        "    y = 0  # depends on the task but we probably want to reset the inner loop iterator inside our outer loop\n",
        "    print(\"Inside outer loop, x {x} and y {y}\", x, y)\n",
        "    while y < 3:\n",
        "        print(\"Insider inner loop\", x, y)\n",
        "        # we need to do something otherwise we might have an infinite loop right ?\n",
        "        y += 1\n",
        "    # out of inner loop\n",
        "    x += 1"
      ],
      "metadata": {
        "colab": {
          "base_uri": "https://localhost:8080/"
        },
        "id": "JdkBV2wSdQKT",
        "outputId": "00b37acd-378b-4325-81e8-a28a20b3caf6"
      },
      "execution_count": 25,
      "outputs": [
        {
          "output_type": "stream",
          "name": "stdout",
          "text": [
            "Inside outer loop, x {x} and y {y} 0 0\n",
            "Insider inner loop 0 0\n",
            "Insider inner loop 0 1\n",
            "Insider inner loop 0 2\n",
            "Inside outer loop, x {x} and y {y} 1 0\n",
            "Insider inner loop 1 0\n",
            "Insider inner loop 1 1\n",
            "Insider inner loop 1 2\n",
            "Inside outer loop, x {x} and y {y} 2 0\n",
            "Insider inner loop 2 0\n",
            "Insider inner loop 2 1\n",
            "Insider inner loop 2 2\n",
            "Inside outer loop, x {x} and y {y} 3 0\n",
            "Insider inner loop 3 0\n",
            "Insider inner loop 3 1\n",
            "Insider inner loop 3 2\n"
          ]
        }
      ]
    },
    {
      "cell_type": "code",
      "source": [
        "n = int(input(\"Input last number for multiplication table\"))\n",
        "x = 0\n",
        "while x <= n:\n",
        "    y = 0\n",
        "    while y <= n:\n",
        "        print(f\"{x}*{y}={x*y}\")  # {} let us put variables and expressions inside our string\n",
        "        y += 1\n",
        "    x += 1"
      ],
      "metadata": {
        "colab": {
          "base_uri": "https://localhost:8080/"
        },
        "id": "zT4JZAd9eMoF",
        "outputId": "c46ef42c-bae2-4d46-c5cf-37255bd98075"
      },
      "execution_count": 30,
      "outputs": [
        {
          "output_type": "stream",
          "name": "stdout",
          "text": [
            "Input last number for multiplication table7\n",
            "0*0=0\n",
            "0*1=0\n",
            "0*2=0\n",
            "0*3=0\n",
            "0*4=0\n",
            "0*5=0\n",
            "0*6=0\n",
            "0*7=0\n",
            "1*0=0\n",
            "1*1=1\n",
            "1*2=2\n",
            "1*3=3\n",
            "1*4=4\n",
            "1*5=5\n",
            "1*6=6\n",
            "1*7=7\n",
            "2*0=0\n",
            "2*1=2\n",
            "2*2=4\n",
            "2*3=6\n",
            "2*4=8\n",
            "2*5=10\n",
            "2*6=12\n",
            "2*7=14\n",
            "3*0=0\n",
            "3*1=3\n",
            "3*2=6\n",
            "3*3=9\n",
            "3*4=12\n",
            "3*5=15\n",
            "3*6=18\n",
            "3*7=21\n",
            "4*0=0\n",
            "4*1=4\n",
            "4*2=8\n",
            "4*3=12\n",
            "4*4=16\n",
            "4*5=20\n",
            "4*6=24\n",
            "4*7=28\n",
            "5*0=0\n",
            "5*1=5\n",
            "5*2=10\n",
            "5*3=15\n",
            "5*4=20\n",
            "5*5=25\n",
            "5*6=30\n",
            "5*7=35\n",
            "6*0=0\n",
            "6*1=6\n",
            "6*2=12\n",
            "6*3=18\n",
            "6*4=24\n",
            "6*5=30\n",
            "6*6=36\n",
            "6*7=42\n",
            "7*0=0\n",
            "7*1=7\n",
            "7*2=14\n",
            "7*3=21\n",
            "7*4=28\n",
            "7*5=35\n",
            "7*6=42\n",
            "7*7=49\n"
          ]
        }
      ]
    },
    {
      "cell_type": "markdown",
      "source": [
        "# Multiple nested we can do triple or even more nested loops - it becomes harder to reason about such loops"
      ],
      "metadata": {
        "id": "Rk4hMjGbe6-l"
      }
    },
    {
      "cell_type": "markdown",
      "source": [
        "# Number guessing game with while loop"
      ],
      "metadata": {
        "id": "NsRm-VxIhQas"
      }
    },
    {
      "cell_type": "code",
      "source": [
        "# game for two\n",
        "while True:\n",
        "  try:\n",
        "    secret = input(\"playes A enter number\")\n",
        "    secret = int(secret)\n",
        "  except ValueError:\n",
        "      print(\"not an integer, try again!\")\n",
        "      continue\n",
        "      print(\"integer was picked\")\n",
        "\n",
        "\n",
        "secret = int(input(\"Player A enter number\"))\n",
        "guess = None\n",
        "num_guesses = 0\n",
        "\n",
        "while guess != secret: # we keep playing as long as guess is not equal to secret\n",
        "    guess = input(\"What is your guess Player B? (q to give up)\")\n",
        "    if guess == \"q\" or guess == \"Q\":  # there are other ways of doing this checking\n",
        "        print(\"We give up\")\n",
        "        break\n",
        "    guess = int(guess) # we convert AFTER checking for q\n",
        "    num_guesses += 1 # our gusses counter\n",
        "    if guess < secret:\n",
        "        print(\"Your guess is less than secret\")\n",
        "    elif guess > secret:\n",
        "        print(\"Your guess is more than secret\")\n",
        "# this is where the loop is already ended\n",
        "print(\"So the secret number was\", secret)\n",
        "print(f\"You took {num_guesses} tries\")\n",
        "# this code could always be improved, for example we could track the number of guesses"
      ],
      "metadata": {
        "colab": {
          "base_uri": "https://localhost:8080/",
          "height": 425
        },
        "id": "WBbVtex9fEBS",
        "outputId": "bffa7ce7-98ee-49d6-e70b-a240a3fc7076"
      },
      "execution_count": 32,
      "outputs": [
        {
          "name": "stdout",
          "output_type": "stream",
          "text": [
            "playes A enter number78\n",
            "playes A enter number67\n"
          ]
        },
        {
          "output_type": "error",
          "ename": "KeyboardInterrupt",
          "evalue": "ignored",
          "traceback": [
            "\u001b[0;31m---------------------------------------------------------------------------\u001b[0m",
            "\u001b[0;31mKeyboardInterrupt\u001b[0m                         Traceback (most recent call last)",
            "\u001b[0;32m<ipython-input-32-1cef88d0c8a5>\u001b[0m in \u001b[0;36m<module>\u001b[0;34m\u001b[0m\n\u001b[1;32m      2\u001b[0m \u001b[0;32mwhile\u001b[0m \u001b[0;32mTrue\u001b[0m\u001b[0;34m:\u001b[0m\u001b[0;34m\u001b[0m\u001b[0;34m\u001b[0m\u001b[0m\n\u001b[1;32m      3\u001b[0m   \u001b[0;32mtry\u001b[0m\u001b[0;34m:\u001b[0m\u001b[0;34m\u001b[0m\u001b[0;34m\u001b[0m\u001b[0m\n\u001b[0;32m----> 4\u001b[0;31m     \u001b[0msecret\u001b[0m \u001b[0;34m=\u001b[0m \u001b[0minput\u001b[0m\u001b[0;34m(\u001b[0m\u001b[0;34m\"playes A enter number\"\u001b[0m\u001b[0;34m)\u001b[0m\u001b[0;34m\u001b[0m\u001b[0;34m\u001b[0m\u001b[0m\n\u001b[0m\u001b[1;32m      5\u001b[0m     \u001b[0msecret\u001b[0m \u001b[0;34m=\u001b[0m \u001b[0mint\u001b[0m\u001b[0;34m(\u001b[0m\u001b[0msecret\u001b[0m\u001b[0;34m)\u001b[0m\u001b[0;34m\u001b[0m\u001b[0;34m\u001b[0m\u001b[0m\n\u001b[1;32m      6\u001b[0m   \u001b[0;32mexcept\u001b[0m \u001b[0mValueError\u001b[0m\u001b[0;34m:\u001b[0m\u001b[0;34m\u001b[0m\u001b[0;34m\u001b[0m\u001b[0m\n",
            "\u001b[0;32m/usr/local/lib/python3.8/dist-packages/ipykernel/kernelbase.py\u001b[0m in \u001b[0;36mraw_input\u001b[0;34m(self, prompt)\u001b[0m\n\u001b[1;32m    858\u001b[0m                 \u001b[0;34m\"raw_input was called, but this frontend does not support input requests.\"\u001b[0m\u001b[0;34m\u001b[0m\u001b[0;34m\u001b[0m\u001b[0m\n\u001b[1;32m    859\u001b[0m             )\n\u001b[0;32m--> 860\u001b[0;31m         return self._input_request(str(prompt),\n\u001b[0m\u001b[1;32m    861\u001b[0m             \u001b[0mself\u001b[0m\u001b[0;34m.\u001b[0m\u001b[0m_parent_ident\u001b[0m\u001b[0;34m,\u001b[0m\u001b[0;34m\u001b[0m\u001b[0;34m\u001b[0m\u001b[0m\n\u001b[1;32m    862\u001b[0m             \u001b[0mself\u001b[0m\u001b[0;34m.\u001b[0m\u001b[0m_parent_header\u001b[0m\u001b[0;34m,\u001b[0m\u001b[0;34m\u001b[0m\u001b[0;34m\u001b[0m\u001b[0m\n",
            "\u001b[0;32m/usr/local/lib/python3.8/dist-packages/ipykernel/kernelbase.py\u001b[0m in \u001b[0;36m_input_request\u001b[0;34m(self, prompt, ident, parent, password)\u001b[0m\n\u001b[1;32m    902\u001b[0m             \u001b[0;32mexcept\u001b[0m \u001b[0mKeyboardInterrupt\u001b[0m\u001b[0;34m:\u001b[0m\u001b[0;34m\u001b[0m\u001b[0;34m\u001b[0m\u001b[0m\n\u001b[1;32m    903\u001b[0m                 \u001b[0;31m# re-raise KeyboardInterrupt, to truncate traceback\u001b[0m\u001b[0;34m\u001b[0m\u001b[0;34m\u001b[0m\u001b[0;34m\u001b[0m\u001b[0m\n\u001b[0;32m--> 904\u001b[0;31m                 \u001b[0;32mraise\u001b[0m \u001b[0mKeyboardInterrupt\u001b[0m\u001b[0;34m(\u001b[0m\u001b[0;34m\"Interrupted by user\"\u001b[0m\u001b[0;34m)\u001b[0m \u001b[0;32mfrom\u001b[0m \u001b[0;32mNone\u001b[0m\u001b[0;34m\u001b[0m\u001b[0;34m\u001b[0m\u001b[0m\n\u001b[0m\u001b[1;32m    905\u001b[0m             \u001b[0;32mexcept\u001b[0m \u001b[0mException\u001b[0m \u001b[0;32mas\u001b[0m \u001b[0me\u001b[0m\u001b[0;34m:\u001b[0m\u001b[0;34m\u001b[0m\u001b[0;34m\u001b[0m\u001b[0m\n\u001b[1;32m    906\u001b[0m                 \u001b[0mself\u001b[0m\u001b[0;34m.\u001b[0m\u001b[0mlog\u001b[0m\u001b[0;34m.\u001b[0m\u001b[0mwarning\u001b[0m\u001b[0;34m(\u001b[0m\u001b[0;34m\"Invalid Message:\"\u001b[0m\u001b[0;34m,\u001b[0m \u001b[0mexc_info\u001b[0m\u001b[0;34m=\u001b[0m\u001b[0;32mTrue\u001b[0m\u001b[0;34m)\u001b[0m\u001b[0;34m\u001b[0m\u001b[0;34m\u001b[0m\u001b[0m\n",
            "\u001b[0;31mKeyboardInterrupt\u001b[0m: Interrupted by user"
          ]
        }
      ]
    },
    {
      "cell_type": "markdown",
      "source": [
        "# Best case for while loops - indefinite iteration\n",
        "best use for while loops is when we are not sure what the increment or decrement should be, maybe we have a sensor for meteor strike that coudl be our break condition\n",
        "Python offers another type of loop for going though something definite"
      ],
      "metadata": {
        "id": "qfAawaNhc8Lm"
      }
    },
    {
      "cell_type": "markdown",
      "source": [
        "# For Loops - for definite iteration over something"
      ],
      "metadata": {
        "id": "EgHzVC7HjKg9"
      }
    },
    {
      "cell_type": "markdown",
      "metadata": {
        "id": "tzulQAH-Xdzp"
      },
      "source": [
        "![For Loop](https://media.geeksforgeeks.org/wp-content/uploads/20191101172216/for-loop-python.jpg)\n",
        "From: https://www.geeksforgeeks.org/python-for-loops/"
      ]
    },
    {
      "cell_type": "code",
      "execution_count": 33,
      "metadata": {
        "colab": {
          "base_uri": "https://localhost:8080/"
        },
        "id": "PJrqdNOjXdzq",
        "outputId": "fa588fc7-0aaf-4e19-beac-9947c59ba626"
      },
      "outputs": [
        {
          "output_type": "stream",
          "name": "stdout",
          "text": [
            "Number is 0\n",
            "Number is 1\n",
            "Number is 2\n",
            "Number is 3\n",
            "Number is 4\n",
            "Number is 5\n",
            "Number is 6\n",
            "Number is 7\n",
            "Number is 8\n",
            "Number is 9\n"
          ]
        }
      ],
      "source": [
        "# for loops\n",
        "for n in range(10): # what is range it is sort of like semi-ready sequence of numbers that generates numbers on demand\n",
        "    # notice we start at 0 and go until 9 (not 10!)\n",
        "    print(\"Number is\", n)"
      ]
    },
    {
      "cell_type": "code",
      "source": [
        "# so in order to use for loop you need some sort of collection/sequence of something to go over\n",
        "# there are many different types of collections, we cover the basic ones in this course"
      ],
      "metadata": {
        "id": "A1GZXVUcjlG1"
      },
      "execution_count": null,
      "outputs": []
    },
    {
      "cell_type": "code",
      "source": [
        "for i in range(4):\n",
        "  print(\"i is \", i)\n",
        "  i += 10\n",
        "  print(\"i is \", i)\n",
        "  print(\"Going back to next item in range\")\n"
      ],
      "metadata": {
        "id": "CWtFUfVOzsJk",
        "outputId": "f066d5ee-04c9-4507-cb6b-788f05bf7fa6",
        "colab": {
          "base_uri": "https://localhost:8080/"
        }
      },
      "execution_count": 36,
      "outputs": [
        {
          "output_type": "stream",
          "name": "stdout",
          "text": [
            "i is  0\n",
            "i is  10\n",
            "Going back to next item in range\n",
            "i is  1\n",
            "i is  11\n",
            "Going back to next item in range\n",
            "i is  2\n",
            "i is  12\n",
            "Going back to next item in range\n",
            "i is  3\n",
            "i is  13\n",
            "Going back to next item in range\n"
          ]
        }
      ]
    },
    {
      "cell_type": "code",
      "execution_count": 42,
      "metadata": {
        "colab": {
          "base_uri": "https://localhost:8080/"
        },
        "id": "vb_BfOHxXdzq",
        "outputId": "fa5459f8-2bbd-4df8-8bf7-80a02a923c4f"
      },
      "outputs": [
        {
          "output_type": "stream",
          "name": "stdout",
          "text": [
            "Hello there Selina\n",
            "Letter  S\n",
            "Unicode of letter S is 83\n",
            "Letter  e\n",
            "Unicode of letter e is 101\n",
            "Letter  l\n",
            "Unicode of letter l is 108\n",
            "Letter  i\n",
            "Unicode of letter i is 105\n",
            "Letter  n\n",
            "Unicode of letter n is 110\n",
            "Letter  a\n",
            "Unicode of letter a is 97\n",
            "This happens after the loop is done\n"
          ]
        }
      ],
      "source": [
        "my_name = \"Selina\" # string is a sequnce of characters\n",
        "print(f\"Hello there {my_name}\")\n",
        "for c in my_name: # it could my_char , could be my_val whatever, we just chose to use c here\n",
        "    print(\"Letter \", c)\n",
        "    print(f\"Unicode of letter {c} is {ord(c)}\")    \n",
        "print(\"This happens after the loop is done\")"
      ]
    },
    {
      "cell_type": "code",
      "execution_count": 43,
      "metadata": {
        "colab": {
          "base_uri": "https://localhost:8080/"
        },
        "id": "uLIe1ie6Xdzr",
        "outputId": "bfce77bf-b681-497a-cee1-f10564bb8221"
      },
      "outputs": [
        {
          "output_type": "stream",
          "name": "stdout",
          "text": [
            "20\n",
            "21\n",
            "22\n",
            "23\n",
            "24\n"
          ]
        }
      ],
      "source": [
        "for n in range(20,25): # we can specific start and end of the range, notice end of the range is actually end-1\n",
        "    # in other works beggingin is inclusive\n",
        "    # and end is exclusive (not included)\n",
        "    print(n)"
      ]
    },
    {
      "cell_type": "code",
      "execution_count": null,
      "metadata": {
        "colab": {
          "base_uri": "https://localhost:8080/"
        },
        "id": "x9NQekzeXdzr",
        "outputId": "efd9b9e8-4f17-434b-d8bd-24b0294b397e"
      },
      "outputs": [
        {
          "output_type": "stream",
          "name": "stdout",
          "text": [
            "100\n",
            "102\n",
            "104\n",
            "106\n",
            "108\n"
          ]
        }
      ],
      "source": [
        "for my_num in range(100,110,2): # i can add step to range\n",
        "    # so step represent how we are going to jump to the next number\n",
        "    print(my_num)\n",
        "    "
      ]
    },
    {
      "cell_type": "code",
      "source": [
        "# c, my_num, n were variables which we created inside"
      ],
      "metadata": {
        "id": "R6S9IHkUkkrJ"
      },
      "execution_count": null,
      "outputs": []
    },
    {
      "cell_type": "code",
      "source": [
        "# lets try negative -\n",
        "for n in range(30,20, -3):\n",
        "    print(\"n is \", n)\n",
        "print(\"after exiting loop n is\", n) # this is different from while loops where it would be 18 (not 21)"
      ],
      "metadata": {
        "id": "gwQ3DZE7kglE",
        "outputId": "f8b89e56-1dd0-4b2e-a480-20e436af79e7",
        "colab": {
          "base_uri": "https://localhost:8080/"
        }
      },
      "execution_count": 44,
      "outputs": [
        {
          "output_type": "stream",
          "name": "stdout",
          "text": [
            "n is  30\n",
            "n is  27\n",
            "n is  24\n",
            "n is  21\n",
            "after exiting loop n is 21\n"
          ]
        }
      ]
    },
    {
      "cell_type": "code",
      "source": [],
      "metadata": {
        "id": "zqOFyLFElVcs"
      },
      "execution_count": null,
      "outputs": []
    },
    {
      "cell_type": "markdown",
      "source": [
        "For loops - could always rewrite as while loops - for is just shorter\n"
      ],
      "metadata": {
        "id": "EwCOHw3klWVb"
      }
    },
    {
      "cell_type": "code",
      "source": [
        "start = 30\n",
        "end = 20\n",
        "step = -3\n",
        "n = start\n",
        "while n > end:\n",
        "    print(\"n is \", n)\n",
        "    n += step # n = n + step (here step could be negative that is fine)\n",
        "print(\"n outside loop is\", n)"
      ],
      "metadata": {
        "id": "BTchSACBlbV2",
        "outputId": "87476dd0-dd4e-40ed-936f-f5d7aa7f6ca1",
        "colab": {
          "base_uri": "https://localhost:8080/"
        }
      },
      "execution_count": 45,
      "outputs": [
        {
          "output_type": "stream",
          "name": "stdout",
          "text": [
            "n is  30\n",
            "n is  27\n",
            "n is  24\n",
            "n is  21\n",
            "n outside loop is 18\n"
          ]
        }
      ]
    },
    {
      "cell_type": "code",
      "source": [
        "# we usually do not need the value of our iterator outside loop\n",
        "# crucially with while loops we have to remember to reset the iterator if we want to use it again\n",
        "# for loops it is done automatically\n",
        "for n in range(9000,9_009, 2):\n",
        "    print(n)"
      ],
      "metadata": {
        "id": "3CNNA4o4lzXl",
        "outputId": "01db618b-c594-4c63-f9a0-cc4950d61e4c",
        "colab": {
          "base_uri": "https://localhost:8080/"
        }
      },
      "execution_count": 47,
      "outputs": [
        {
          "output_type": "stream",
          "name": "stdout",
          "text": [
            "9000\n",
            "9002\n",
            "9004\n",
            "9006\n",
            "9008\n"
          ]
        }
      ]
    },
    {
      "cell_type": "code",
      "execution_count": 48,
      "metadata": {
        "colab": {
          "base_uri": "https://localhost:8080/"
        },
        "id": "pQVrAD5GXdzr",
        "outputId": "fe2ec849-6f50-4f01-ae08-b6d5c5677664"
      },
      "outputs": [
        {
          "output_type": "stream",
          "name": "stdout",
          "text": [
            "Working with item:  1\n",
            "Working with item:  2\n",
            "Working with item:  100\n",
            "Working with item:  105\n",
            "Working with item:  Valdis\n",
            "Working with item:  potatoes\n",
            "Working with item:  9000\n",
            "Working with item:  107.35\n",
            "Total price is 9315.35\n",
            "We had 3 with price over 100\n"
          ]
        }
      ],
      "source": [
        "# could iterate over any sequence, we will look at list in more depth later in course\n",
        "my_list = [1,2,100,105,\"Valdis\",\"potatoes\", 9000, 107.35] # list holds a collection of arbitrary data types\n",
        "total = 0\n",
        "big_items = 0\n",
        "for item in my_list:\n",
        "    print(\"Working with item: \", item)\n",
        "    if type(item) == int or type(item) == float:\n",
        "        total += item\n",
        "        if item > 100:\n",
        "            big_items += 1\n",
        "print(\"Total price is\", total)\n",
        "print(f\"We had {big_items} with price over 100\")"
      ]
    },
    {
      "cell_type": "code",
      "source": [
        "total = 0 \n",
        "for n in range(10):\n",
        "  print(f\"total so far {total}, new number to be added {n}\")\n",
        "  total += n\n",
        "print(\"Sum of numbers 0 to 9 is\", total)"
      ],
      "metadata": {
        "id": "N75-a8OwmnBs",
        "outputId": "2c73dd6f-003b-4715-dbf0-7c0118cf5fc4",
        "colab": {
          "base_uri": "https://localhost:8080/"
        }
      },
      "execution_count": 51,
      "outputs": [
        {
          "output_type": "stream",
          "name": "stdout",
          "text": [
            "total so far 0, new number to be added 0\n",
            "total so far 0, new number to be added 1\n",
            "total so far 1, new number to be added 2\n",
            "total so far 3, new number to be added 3\n",
            "total so far 6, new number to be added 4\n",
            "total so far 10, new number to be added 5\n",
            "total so far 15, new number to be added 6\n",
            "total so far 21, new number to be added 7\n",
            "total so far 28, new number to be added 8\n",
            "total so far 36, new number to be added 9\n",
            "Sum of numbers 0 to 9 is 45\n"
          ]
        }
      ]
    },
    {
      "cell_type": "code",
      "source": [
        "# in python we could have been lazier\n",
        "sum(range(10))  # sum works over sequences"
      ],
      "metadata": {
        "id": "2PADofxjmwYq",
        "outputId": "2dc991c1-70d9-455d-95fb-5ff1f7935488",
        "colab": {
          "base_uri": "https://localhost:8080/"
        }
      },
      "execution_count": null,
      "outputs": [
        {
          "output_type": "execute_result",
          "data": {
            "text/plain": [
              "45"
            ]
          },
          "metadata": {},
          "execution_count": 41
        }
      ]
    },
    {
      "cell_type": "code",
      "execution_count": 53,
      "metadata": {
        "colab": {
          "base_uri": "https://localhost:8080/"
        },
        "id": "qmi_dsI-Xdzs",
        "outputId": "5013c581-8b18-4d9d-c22a-407e5fff48c7"
      },
      "outputs": [
        {
          "output_type": "stream",
          "name": "stdout",
          "text": [
            "After loop exits the max is found 9531\n",
            "9531\n"
          ]
        },
        {
          "output_type": "execute_result",
          "data": {
            "text/plain": [
              "9"
            ]
          },
          "metadata": {},
          "execution_count": 53
        }
      ],
      "source": [
        "# Find maximum value in a list             \n",
        "my_num_list = [1,6,17,9531,7,-6,49,642,6,2,-5555]\n",
        "\n",
        "my_max = None\n",
        "for num in my_num_list:\n",
        "    if my_max == None: # this will happen with first item\n",
        "        my_max = num\n",
        "    if num > my_max:\n",
        "        my_max = num\n",
        "print(\"After loop exits the max is found\", my_max)\n",
        "# Intermediate skill       \n",
        "# Python has a built in max method so you could unroll your list\n",
        "print(max(*my_num_list))\n",
        "max(5,1,9)\n",
        "    "
      ]
    },
    {
      "cell_type": "code",
      "source": [],
      "metadata": {
        "id": "BSru0KTWnZWi"
      },
      "execution_count": null,
      "outputs": []
    },
    {
      "cell_type": "markdown",
      "source": [
        "# break in for loop"
      ],
      "metadata": {
        "id": "qS2Ee9t5ncDE"
      }
    },
    {
      "cell_type": "code",
      "source": [
        "# you can put in break inside for loop \n",
        "#just like while loop\n",
        "for n in range(10):\n",
        "    print(n)\n",
        "    if n > 5:\n",
        "        print(\"Too much\", n)\n",
        "        break\n",
        "print(\"outside n is\", n)"
      ],
      "metadata": {
        "id": "4I5la14gnea8",
        "outputId": "c87cada3-2442-410c-de6d-fb74b349bfa0",
        "colab": {
          "base_uri": "https://localhost:8080/"
        }
      },
      "execution_count": null,
      "outputs": [
        {
          "output_type": "stream",
          "name": "stdout",
          "text": [
            "0\n",
            "1\n",
            "2\n",
            "3\n",
            "4\n",
            "5\n",
            "6\n",
            "Too much 6\n",
            "outside n is 6\n"
          ]
        }
      ]
    },
    {
      "cell_type": "code",
      "source": [
        "# we can also use continue inside our for loop\n",
        "for n in range(10):\n",
        "    print(n)\n",
        "    if n < 4:\n",
        "        print(\"not ready yet\", n)\n",
        "        continue  # this goes to the start of loop\n",
        "    # we could have done this with if else instead of continue\n",
        "    print(\"big n\", n)"
      ],
      "metadata": {
        "id": "2pft5BRsnvjw",
        "outputId": "d5e4b86b-982f-4199-f328-4a73ea94c673",
        "colab": {
          "base_uri": "https://localhost:8080/"
        }
      },
      "execution_count": 54,
      "outputs": [
        {
          "output_type": "stream",
          "name": "stdout",
          "text": [
            "0\n",
            "not ready yet 0\n",
            "1\n",
            "not ready yet 1\n",
            "2\n",
            "not ready yet 2\n",
            "3\n",
            "not ready yet 3\n",
            "4\n",
            "big n 4\n",
            "5\n",
            "big n 5\n",
            "6\n",
            "big n 6\n",
            "7\n",
            "big n 7\n",
            "8\n",
            "big n 8\n",
            "9\n",
            "big n 9\n"
          ]
        }
      ]
    },
    {
      "cell_type": "code",
      "source": [
        "# in practice break is often useful continue is less useful"
      ],
      "metadata": {
        "id": "j8yjd6TaoE9d"
      },
      "execution_count": null,
      "outputs": []
    },
    {
      "cell_type": "code",
      "source": [
        "# for loops might need a method of adding a index to some sequence member\n",
        "for i,c in enumerate(my_name):  # by default i will start at 0, again i and c were my choices, you could use different names\n",
        "    print(i, c)"
      ],
      "metadata": {
        "id": "4AYT9BPOoH9O",
        "outputId": "7fa62ecc-ddd6-4347-f656-be41f8842e2e",
        "colab": {
          "base_uri": "https://localhost:8080/"
        }
      },
      "execution_count": 55,
      "outputs": [
        {
          "output_type": "stream",
          "name": "stdout",
          "text": [
            "0 S\n",
            "1 e\n",
            "2 l\n",
            "3 i\n",
            "4 n\n",
            "5 a\n"
          ]
        }
      ]
    },
    {
      "cell_type": "code",
      "source": [
        "for n in range(55):\n",
        "    if n % 2 == 0:\n",
        "        print(n, \"is even!\")\n",
        "    else:\n",
        "        print(n, \"is odd\")"
      ],
      "metadata": {
        "id": "A8fRiJdsobEy",
        "outputId": "8a9644c7-ed16-4140-f811-364c74d5c00c",
        "colab": {
          "base_uri": "https://localhost:8080/"
        }
      },
      "execution_count": 57,
      "outputs": [
        {
          "output_type": "stream",
          "name": "stdout",
          "text": [
            "0 is even!\n",
            "1 is odd\n",
            "2 is even!\n",
            "3 is odd\n",
            "4 is even!\n",
            "5 is odd\n",
            "6 is even!\n",
            "7 is odd\n",
            "8 is even!\n",
            "9 is odd\n",
            "10 is even!\n",
            "11 is odd\n",
            "12 is even!\n",
            "13 is odd\n",
            "14 is even!\n",
            "15 is odd\n",
            "16 is even!\n",
            "17 is odd\n",
            "18 is even!\n",
            "19 is odd\n",
            "20 is even!\n",
            "21 is odd\n",
            "22 is even!\n",
            "23 is odd\n",
            "24 is even!\n",
            "25 is odd\n",
            "26 is even!\n",
            "27 is odd\n",
            "28 is even!\n",
            "29 is odd\n",
            "30 is even!\n",
            "31 is odd\n",
            "32 is even!\n",
            "33 is odd\n",
            "34 is even!\n",
            "35 is odd\n",
            "36 is even!\n",
            "37 is odd\n",
            "38 is even!\n",
            "39 is odd\n",
            "40 is even!\n",
            "41 is odd\n",
            "42 is even!\n",
            "43 is odd\n",
            "44 is even!\n",
            "45 is odd\n",
            "46 is even!\n",
            "47 is odd\n",
            "48 is even!\n",
            "49 is odd\n",
            "50 is even!\n",
            "51 is odd\n",
            "52 is even!\n",
            "53 is odd\n",
            "54 is even!\n"
          ]
        }
      ]
    },
    {
      "cell_type": "markdown",
      "metadata": {
        "id": "nHiijXVAXdzs"
      },
      "source": [
        "## Practice \n",
        "### Write a program that goes over(iterates) numbers from 1 to 100(included)\n",
        "* For each number it prints Fizz if number divides by 5 even\n",
        "* For each number it prints Buzz if number divides by 7 evenly\n",
        "* If number divides by 5 AND 7 print FizzBuzz\n",
        "* print number if it does not divide by 5 nor 7\n",
        "* 1,2,3,4,Fizz,6,Buzz,8,9,Fizz,11,.......34,FizzBuzz,36"
      ]
    },
    {
      "cell_type": "code",
      "execution_count": 58,
      "metadata": {
        "id": "IK8mFLjoXdzs",
        "colab": {
          "base_uri": "https://localhost:8080/"
        },
        "outputId": "5a77e58a-f8ce-4a2c-922d-ea5257aec9ae"
      },
      "outputs": [
        {
          "output_type": "execute_result",
          "data": {
            "text/plain": [
              "(1, 2, 3, 4, 'Fizz')"
            ]
          },
          "metadata": {},
          "execution_count": 58
        }
      ],
      "source": [
        "1,2,3,4,\"Fizz\""
      ]
    },
    {
      "cell_type": "code",
      "execution_count": 59,
      "metadata": {
        "id": "RdLcyH0iXdzs",
        "colab": {
          "base_uri": "https://localhost:8080/"
        },
        "outputId": "51470e65-4bf8-4ddb-a43e-0bd1723a0fc9"
      },
      "outputs": [
        {
          "output_type": "stream",
          "name": "stdout",
          "text": [
            "1\n",
            "2\n",
            "3\n",
            "4\n",
            "5\n",
            "6\n",
            "7\n",
            "8\n",
            "9\n",
            "10\n",
            "11\n",
            "12\n",
            "13\n",
            "14\n",
            "15\n",
            "16\n",
            "17\n",
            "18\n",
            "19\n",
            "20\n",
            "21\n",
            "22\n",
            "23\n",
            "24\n",
            "25\n",
            "26\n",
            "27\n",
            "28\n",
            "29\n",
            "30\n",
            "31\n",
            "32\n",
            "33\n",
            "34\n",
            "35\n",
            "36\n",
            "37\n",
            "38\n",
            "39\n",
            "40\n",
            "41\n",
            "42\n",
            "43\n",
            "44\n",
            "45\n",
            "46\n",
            "47\n",
            "48\n",
            "49\n",
            "50\n",
            "51\n",
            "52\n",
            "53\n",
            "54\n",
            "55\n",
            "56\n",
            "57\n",
            "58\n",
            "59\n",
            "60\n",
            "61\n",
            "62\n",
            "63\n",
            "64\n",
            "65\n",
            "66\n",
            "67\n",
            "68\n",
            "69\n",
            "70\n",
            "71\n",
            "72\n",
            "73\n",
            "74\n",
            "75\n",
            "76\n",
            "77\n",
            "78\n",
            "79\n",
            "80\n",
            "81\n",
            "82\n",
            "83\n",
            "84\n",
            "85\n",
            "86\n",
            "87\n",
            "88\n",
            "89\n",
            "90\n",
            "91\n",
            "92\n",
            "93\n",
            "94\n",
            "95\n",
            "96\n",
            "97\n",
            "98\n",
            "99\n",
            "100\n"
          ]
        }
      ],
      "source": [
        "for x in range(1,101):\n",
        "    print(x)"
      ]
    },
    {
      "cell_type": "code",
      "source": [
        "total = 0\n",
        "\n",
        "i = 1\n",
        "\n",
        "while i < 5:\n",
        "\n",
        "    total += i\n",
        "\n",
        "    i += 2\n",
        "    print(\"total is \", i)\n",
        "\n",
        "# what will be value of total after the above code runs?\n",
        "\n"
      ],
      "metadata": {
        "id": "i0MjR37w58Lt",
        "outputId": "94b19009-3c2d-4b26-c5a6-d6df9a43a241",
        "colab": {
          "base_uri": "https://localhost:8080/"
        }
      },
      "execution_count": 62,
      "outputs": [
        {
          "output_type": "stream",
          "name": "stdout",
          "text": [
            "total is  3\n",
            "total is  5\n"
          ]
        }
      ]
    },
    {
      "cell_type": "code",
      "source": [
        "result = 10\n",
        "\n",
        "for n in range(4):\n",
        "\n",
        "    result *= n\n",
        "\n",
        "print(result)\n",
        "\n",
        "# what will be the result?"
      ],
      "metadata": {
        "id": "iJdbSibj6n5C",
        "outputId": "4c4b2db7-b68b-4a9b-b8e4-b2a1f579bdfa",
        "colab": {
          "base_uri": "https://localhost:8080/"
        }
      },
      "execution_count": 67,
      "outputs": [
        {
          "output_type": "stream",
          "name": "stdout",
          "text": [
            "0\n"
          ]
        }
      ]
    },
    {
      "cell_type": "code",
      "source": [
        "i = 1\n",
        "\n",
        "while True:\n",
        "\n",
        "    if i%2 == 0:\n",
        "\n",
        "        break\n",
        "\n",
        "    i += 3\n",
        "\n",
        "print(i) # what will be value of i ?"
      ],
      "metadata": {
        "id": "sD__1eWJ6yju",
        "outputId": "446cac41-6122-433e-85af-056ebad27efa",
        "colab": {
          "base_uri": "https://localhost:8080/"
        }
      },
      "execution_count": 66,
      "outputs": [
        {
          "output_type": "stream",
          "name": "stdout",
          "text": [
            "4\n"
          ]
        }
      ]
    },
    {
      "cell_type": "code",
      "source": [
        "total = 0\n",
        "\n",
        "i = 0\n",
        "\n",
        "while i < 10:\n",
        "\n",
        "    if i % 2 == 0:\n",
        "\n",
        "        continue\n",
        "\n",
        "    total += i\n",
        "\n",
        "    i += 1\n",
        "    print(\"result is\", i)\n",
        "\n"
      ],
      "metadata": {
        "id": "URd8nu6x7Qf1",
        "outputId": "f743aeed-63df-44bc-8192-1c46f8dfe39c",
        "colab": {
          "base_uri": "https://localhost:8080/",
          "height": 240
        }
      },
      "execution_count": 69,
      "outputs": [
        {
          "output_type": "error",
          "ename": "KeyboardInterrupt",
          "evalue": "ignored",
          "traceback": [
            "\u001b[0;31m---------------------------------------------------------------------------\u001b[0m",
            "\u001b[0;31mKeyboardInterrupt\u001b[0m                         Traceback (most recent call last)",
            "\u001b[0;32m<ipython-input-69-52266e6dd9ec>\u001b[0m in \u001b[0;36m<module>\u001b[0;34m\u001b[0m\n\u001b[1;32m      3\u001b[0m \u001b[0mi\u001b[0m \u001b[0;34m=\u001b[0m \u001b[0;36m0\u001b[0m\u001b[0;34m\u001b[0m\u001b[0;34m\u001b[0m\u001b[0m\n\u001b[1;32m      4\u001b[0m \u001b[0;34m\u001b[0m\u001b[0m\n\u001b[0;32m----> 5\u001b[0;31m \u001b[0;32mwhile\u001b[0m \u001b[0mi\u001b[0m \u001b[0;34m<\u001b[0m \u001b[0;36m10\u001b[0m\u001b[0;34m:\u001b[0m\u001b[0;34m\u001b[0m\u001b[0;34m\u001b[0m\u001b[0m\n\u001b[0m\u001b[1;32m      6\u001b[0m \u001b[0;34m\u001b[0m\u001b[0m\n\u001b[1;32m      7\u001b[0m     \u001b[0;32mif\u001b[0m \u001b[0mi\u001b[0m \u001b[0;34m%\u001b[0m \u001b[0;36m2\u001b[0m \u001b[0;34m==\u001b[0m \u001b[0;36m0\u001b[0m\u001b[0;34m:\u001b[0m\u001b[0;34m\u001b[0m\u001b[0;34m\u001b[0m\u001b[0m\n",
            "\u001b[0;31mKeyboardInterrupt\u001b[0m: "
          ]
        }
      ]
    },
    {
      "cell_type": "code",
      "source": [
        "i = 7\n",
        "\n",
        "for c in \"potatoes\":\n",
        "\n",
        "    if c < \"i\":\n",
        "\n",
        "        print(c, end=\"\")\n",
        "\n"
      ],
      "metadata": {
        "id": "WxRqoQFX7uAP",
        "outputId": "616ad663-2761-401b-9934-d903cfa5aa5c",
        "colab": {
          "base_uri": "https://localhost:8080/"
        }
      },
      "execution_count": 71,
      "outputs": [
        {
          "output_type": "stream",
          "name": "stdout",
          "text": [
            "ae"
          ]
        }
      ]
    }
  ],
  "metadata": {
    "kernelspec": {
      "display_name": "Python 3",
      "language": "python",
      "name": "python3"
    },
    "language_info": {
      "codemirror_mode": {
        "name": "ipython",
        "version": 3
      },
      "file_extension": ".py",
      "mimetype": "text/x-python",
      "name": "python",
      "nbconvert_exporter": "python",
      "pygments_lexer": "ipython3",
      "version": "3.8.3"
    },
    "colab": {
      "name": "Python_Loops.ipynb",
      "provenance": []
    }
  },
  "nbformat": 4,
  "nbformat_minor": 0
}